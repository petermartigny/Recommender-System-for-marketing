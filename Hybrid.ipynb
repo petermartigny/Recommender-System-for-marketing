{
 "cells": [
  {
   "cell_type": "code",
   "execution_count": 1,
   "metadata": {
    "collapsed": false
   },
   "outputs": [
    {
     "name": "stdout",
     "output_type": "stream",
     "text": [
      "Populating the interactive namespace from numpy and matplotlib\n"
     ]
    }
   ],
   "source": [
    "%pylab inline"
   ]
  },
  {
   "cell_type": "code",
   "execution_count": 2,
   "metadata": {
    "collapsed": true
   },
   "outputs": [],
   "source": [
    "import pandas as pd\n",
    "import os\n",
    "import numpy as np"
   ]
  },
  {
   "cell_type": "code",
   "execution_count": 3,
   "metadata": {
    "collapsed": true
   },
   "outputs": [],
   "source": [
    "os.chdir(\"C:/Users/utilisateur/Desktop/Statapp/\")"
   ]
  },
  {
   "cell_type": "code",
   "execution_count": 5,
   "metadata": {
    "collapsed": false
   },
   "outputs": [],
   "source": [
    "short = pd.read_csv(\"Benjamin/Short.csv\", sep = \";\")"
   ]
  },
  {
   "cell_type": "code",
   "execution_count": 6,
   "metadata": {
    "collapsed": false
   },
   "outputs": [
    {
     "data": {
      "text/html": [
       "<div>\n",
       "<table border=\"1\" class=\"dataframe\">\n",
       "  <thead>\n",
       "    <tr style=\"text-align: right;\">\n",
       "      <th></th>\n",
       "      <th>ClientCode</th>\n",
       "      <th>BoutiqueCode</th>\n",
       "      <th>BoutiqueName</th>\n",
       "      <th>ProductReference</th>\n",
       "      <th>TransactionType</th>\n",
       "      <th>NetAmount</th>\n",
       "      <th>Quantity</th>\n",
       "      <th>annee_transaction</th>\n",
       "      <th>date_transaction</th>\n",
       "      <th>Quantity_reelle</th>\n",
       "      <th>...</th>\n",
       "      <th>Nationality</th>\n",
       "      <th>Country</th>\n",
       "      <th>Class</th>\n",
       "      <th>FirstPurchaseDateRange</th>\n",
       "      <th>date_naissance</th>\n",
       "      <th>date_creation</th>\n",
       "      <th>Gender2</th>\n",
       "      <th>Resident</th>\n",
       "      <th>NonResident</th>\n",
       "      <th>ProductDescription</th>\n",
       "    </tr>\n",
       "  </thead>\n",
       "  <tbody>\n",
       "    <tr>\n",
       "      <th>0</th>\n",
       "      <td>NA15000285</td>\n",
       "      <td>3020</td>\n",
       "      <td>CAR Miami BTQ</td>\n",
       "      <td>CRT1220407</td>\n",
       "      <td>SALE</td>\n",
       "      <td>120</td>\n",
       "      <td>1</td>\n",
       "      <td>2011</td>\n",
       "      <td>13519872000</td>\n",
       "      <td>1</td>\n",
       "      <td>...</td>\n",
       "      <td>American</td>\n",
       "      <td>USA</td>\n",
       "      <td>Boutique Retail clie</td>\n",
       "      <td>15.09.2006</td>\n",
       "      <td>12658982400</td>\n",
       "      <td>13376793600</td>\n",
       "      <td>F</td>\n",
       "      <td>1</td>\n",
       "      <td>0</td>\n",
       "      <td>MONEY CLIP LINES AND LOGO CAR DEC PAF         ...</td>\n",
       "    </tr>\n",
       "    <tr>\n",
       "      <th>1</th>\n",
       "      <td>NA15000285</td>\n",
       "      <td>3020</td>\n",
       "      <td>CAR Miami BTQ</td>\n",
       "      <td>CRT1220540</td>\n",
       "      <td>SALE</td>\n",
       "      <td>280</td>\n",
       "      <td>1</td>\n",
       "      <td>2011</td>\n",
       "      <td>13519872000</td>\n",
       "      <td>1</td>\n",
       "      <td>...</td>\n",
       "      <td>American</td>\n",
       "      <td>USA</td>\n",
       "      <td>Boutique Retail clie</td>\n",
       "      <td>15.09.2006</td>\n",
       "      <td>12658982400</td>\n",
       "      <td>13376793600</td>\n",
       "      <td>F</td>\n",
       "      <td>1</td>\n",
       "      <td>0</td>\n",
       "      <td>MONEY CLIP FOLDING BUCKLE DEC PAF             ...</td>\n",
       "    </tr>\n",
       "  </tbody>\n",
       "</table>\n",
       "<p>2 rows × 24 columns</p>\n",
       "</div>"
      ],
      "text/plain": [
       "             ClientCode BoutiqueCode  \\\n",
       "0  NA15000285                   3020   \n",
       "1  NA15000285                   3020   \n",
       "\n",
       "                               BoutiqueName      ProductReference  \\\n",
       "0  CAR Miami BTQ                             CRT1220407             \n",
       "1  CAR Miami BTQ                             CRT1220540             \n",
       "\n",
       "  TransactionType  NetAmount  Quantity  annee_transaction  date_transaction  \\\n",
       "0           SALE         120         1               2011       13519872000   \n",
       "1           SALE         280         1               2011       13519872000   \n",
       "\n",
       "   Quantity_reelle                        ...                          \\\n",
       "0                1                        ...                           \n",
       "1                1                        ...                           \n",
       "\n",
       "            Nationality               Country                 Class  \\\n",
       "0  American              USA                   Boutique Retail clie   \n",
       "1  American              USA                   Boutique Retail clie   \n",
       "\n",
       "  FirstPurchaseDateRange date_naissance date_creation Gender2 Resident  \\\n",
       "0             15.09.2006    12658982400   13376793600    F           1   \n",
       "1             15.09.2006    12658982400   13376793600    F           1   \n",
       "\n",
       "   NonResident                                 ProductDescription  \n",
       "0            0  MONEY CLIP LINES AND LOGO CAR DEC PAF         ...  \n",
       "1            0  MONEY CLIP FOLDING BUCKLE DEC PAF             ...  \n",
       "\n",
       "[2 rows x 24 columns]"
      ]
     },
     "execution_count": 6,
     "metadata": {},
     "output_type": "execute_result"
    }
   ],
   "source": [
    "short[['ProductReference', .head(2)"
   ]
  },
  {
   "cell_type": "code",
   "execution_count": 8,
   "metadata": {
    "collapsed": false
   },
   "outputs": [
    {
     "data": {
      "text/plain": [
       "Index(['ClientCode', 'BoutiqueCode', 'BoutiqueName', 'ProductReference',\n",
       "       'TransactionType', 'NetAmount', 'Quantity', 'annee_transaction',\n",
       "       'date_transaction', 'Quantity_reelle', 'NetAmount_euros',\n",
       "       'date_first_transaction', 'first_transaction', 'code_transaction',\n",
       "       'Nationality', 'Country', 'Class', 'FirstPurchaseDateRange',\n",
       "       'date_naissance', 'date_creation', 'Gender2', 'Resident', 'NonResident',\n",
       "       'ProductDescription'],\n",
       "      dtype='object')"
      ]
     },
     "execution_count": 8,
     "metadata": {},
     "output_type": "execute_result"
    }
   ],
   "source": [
    "short.columns"
   ]
  },
  {
   "cell_type": "code",
   "execution_count": 52,
   "metadata": {
    "collapsed": true
   },
   "outputs": [],
   "source": [
    "jewelry = pd.read_excel(\"Peter/Jewelry.xlsx\")\n",
    "Watches = pd.read_excel(\"Peter/Watches.xlsx\")\n",
    "Accessories = pd.read_excel(\"Peter/Accessories & Other.xlsx\")"
   ]
  },
  {
   "cell_type": "code",
   "execution_count": 49,
   "metadata": {
    "collapsed": false
   },
   "outputs": [
    {
     "data": {
      "text/plain": [
       "Index(['hier 2', 'hier 3', 'hier 4', 'hier 5', 'hier 6', 'hier 7',\n",
       "       'article ID', 'article label', 'collection ID', 'collection label',\n",
       "       'alloy type', 'launch date', 'NB of stones', 'center stone',\n",
       "       'carats stone', 'material group', 'life cycle label', 'amount',\n",
       "       'quantity', 'number of clients', 'Type', 'Subtype', 'Offer'],\n",
       "      dtype='object')"
      ]
     },
     "execution_count": 49,
     "metadata": {},
     "output_type": "execute_result"
    }
   ],
   "source": [
    "jewelry.columns"
   ]
  },
  {
   "cell_type": "code",
   "execution_count": 12,
   "metadata": {
    "collapsed": false
   },
   "outputs": [
    {
     "data": {
      "text/plain": [
       "Index(['hier 2', 'hier 3', 'hier 4', 'hier 5', 'hier 6', 'hier 7',\n",
       "       'article ID', 'article label', 'line', 'strap material',\n",
       "       'main material', 'energy movement', 'stone', 'size_dimension',\n",
       "       'size_of_watch', 'life cycle ID', 'life cycle label', 'launch date',\n",
       "       'amount', 'quantity', 'number of clients'],\n",
       "      dtype='object')"
      ]
     },
     "execution_count": 12,
     "metadata": {},
     "output_type": "execute_result"
    }
   ],
   "source": [
    "Watches.columns"
   ]
  },
  {
   "cell_type": "code",
   "execution_count": 13,
   "metadata": {
    "collapsed": false
   },
   "outputs": [
    {
     "data": {
      "text/plain": [
       "Index(['hier 2', 'hier 3', 'hier 4', 'hier 5', 'hier 6', 'hier 7',\n",
       "       'article ID', 'article label', 'launch date', 'main material',\n",
       "       'product segment', 'product group ID', 'product group label',\n",
       "       'life cycle ID', 'life cycle label', 'amount', 'quantity',\n",
       "       'number of clients'],\n",
       "      dtype='object')"
      ]
     },
     "execution_count": 13,
     "metadata": {},
     "output_type": "execute_result"
    }
   ],
   "source": [
    "Accessories.columns"
   ]
  },
  {
   "cell_type": "code",
   "execution_count": 57,
   "metadata": {
    "collapsed": false
   },
   "outputs": [],
   "source": [
    "short.columns = ['ClientCode', 'BoutiqueCode', 'BoutiqueName', 'article ID',\n",
    "       'TransactionType', 'NetAmount', 'Quantity', 'annee_transaction',\n",
    "       'date_transaction', 'Quantity_reelle', 'NetAmount_euros',\n",
    "       'date_first_transaction', 'first_transaction', 'code_transaction',\n",
    "       'Nationality', 'Country', 'Class', 'FirstPurchaseDateRange',\n",
    "       'date_naissance', 'date_creation', 'Gender2', 'Resident', 'NonResident',\n",
    "       'ProductDescription']"
   ]
  },
  {
   "cell_type": "code",
   "execution_count": 48,
   "metadata": {
    "collapsed": false
   },
   "outputs": [
    {
     "data": {
      "text/plain": [
       "Maturity              3233\n",
       "Decline               1809\n",
       "Destruction           1269\n",
       "Historic              1089\n",
       "Discontinued           865\n",
       "Decline to animate     748\n",
       "Launch                 626\n",
       "Growth                 469\n",
       "Not assigned           179\n",
       "Concept                168\n",
       "Novelty                 24\n",
       "Deleted                  5\n",
       "One shot                 4\n",
       "Name: life cycle label, dtype: int64"
      ]
     },
     "execution_count": 48,
     "metadata": {},
     "output_type": "execute_result"
    }
   ],
   "source": [
    "jewelry1 = jewelry[['Type', 'Subtype', 'Offer', 'alloy type', 'material group']]"
   ]
  },
  {
   "cell_type": "code",
   "execution_count": 24,
   "metadata": {
    "collapsed": true
   },
   "outputs": [],
   "source": [
    "jewelry['Type'] = jewelry['hier 2']"
   ]
  },
  {
   "cell_type": "code",
   "execution_count": 27,
   "metadata": {
    "collapsed": true
   },
   "outputs": [],
   "source": [
    "jewelry['Subtype'] = jewelry['hier 3']"
   ]
  },
  {
   "cell_type": "code",
   "execution_count": 36,
   "metadata": {
    "collapsed": true
   },
   "outputs": [],
   "source": [
    "jewelry['Offer'] = jewelry['hier 4']"
   ]
  },
  {
   "cell_type": "code",
   "execution_count": 126,
   "metadata": {
    "collapsed": false
   },
   "outputs": [],
   "source": [
    "data = pd.merge(short, jewelry, on = 'article ID')"
   ]
  },
  {
   "cell_type": "code",
   "execution_count": 124,
   "metadata": {
    "collapsed": true
   },
   "outputs": [],
   "source": [
    "data = pd.merge(data, Watches, on = 'article ID')"
   ]
  },
  {
   "cell_type": "code",
   "execution_count": 72,
   "metadata": {
    "collapsed": true
   },
   "outputs": [],
   "source": [
    "data = pd.merge(data, Accessories, on = 'article ID')"
   ]
  },
  {
   "cell_type": "code",
   "execution_count": 108,
   "metadata": {
    "collapsed": false
   },
   "outputs": [],
   "source": [
    "short['article ID'] = short['article ID'].map(str.strip)"
   ]
  },
  {
   "cell_type": "code",
   "execution_count": 114,
   "metadata": {
    "collapsed": false
   },
   "outputs": [],
   "source": [
    "a = list(short['article ID'].unique())\n",
    "b = list(jewelry['article ID'].unique())\n",
    "c = list(Watches['article ID'].unique())\n",
    "d = list(Accessories['article ID'].unique())"
   ]
  },
  {
   "cell_type": "code",
   "execution_count": 118,
   "metadata": {
    "collapsed": false
   },
   "outputs": [],
   "source": [
    "j = list(set(a).intersection(b))\n",
    "w = list(set(a).intersection(c))\n",
    "ac = list(set(a).intersection(d))"
   ]
  },
  {
   "cell_type": "code",
   "execution_count": 119,
   "metadata": {
    "collapsed": false
   },
   "outputs": [
    {
     "data": {
      "text/plain": [
       "5842"
      ]
     },
     "execution_count": 119,
     "metadata": {},
     "output_type": "execute_result"
    }
   ],
   "source": [
    "len(j) + len(w) + len(ac)"
   ]
  },
  {
   "cell_type": "code",
   "execution_count": 127,
   "metadata": {
    "collapsed": false
   },
   "outputs": [
    {
     "data": {
      "text/plain": [
       "(49699, 43)"
      ]
     },
     "execution_count": 127,
     "metadata": {},
     "output_type": "execute_result"
    }
   ],
   "source": [
    "data.shape"
   ]
  },
  {
   "cell_type": "code",
   "execution_count": 128,
   "metadata": {
    "collapsed": false
   },
   "outputs": [
    {
     "data": {
      "text/plain": [
       "['ClientCode',\n",
       " 'BoutiqueCode',\n",
       " 'BoutiqueName',\n",
       " 'article ID',\n",
       " 'TransactionType',\n",
       " 'NetAmount',\n",
       " 'Quantity',\n",
       " 'annee_transaction',\n",
       " 'date_transaction',\n",
       " 'Quantity_reelle',\n",
       " 'NetAmount_euros',\n",
       " 'date_first_transaction',\n",
       " 'first_transaction',\n",
       " 'code_transaction',\n",
       " 'Nationality',\n",
       " 'Country',\n",
       " 'Class',\n",
       " 'FirstPurchaseDateRange',\n",
       " 'date_naissance',\n",
       " 'date_creation',\n",
       " 'Gender2',\n",
       " 'Resident',\n",
       " 'NonResident',\n",
       " 'ProductDescription',\n",
       " 'hier 2',\n",
       " 'hier 3',\n",
       " 'hier 4',\n",
       " 'hier 5',\n",
       " 'hier 6',\n",
       " 'hier 7',\n",
       " 'article label',\n",
       " 'collection ID',\n",
       " 'collection label',\n",
       " 'alloy type',\n",
       " 'launch date',\n",
       " 'NB of stones',\n",
       " 'center stone',\n",
       " 'carats stone',\n",
       " 'material group',\n",
       " 'life cycle label',\n",
       " 'amount',\n",
       " 'quantity',\n",
       " 'number of clients']"
      ]
     },
     "execution_count": 128,
     "metadata": {},
     "output_type": "execute_result"
    }
   ],
   "source": [
    "list(data.columns)"
   ]
  },
  {
   "cell_type": "code",
   "execution_count": 138,
   "metadata": {
    "collapsed": true
   },
   "outputs": [],
   "source": [
    "product = pd.concat([jewelry, Watches, Accessories])"
   ]
  },
  {
   "cell_type": "code",
   "execution_count": 139,
   "metadata": {
    "collapsed": false
   },
   "outputs": [
    {
     "data": {
      "text/plain": [
       "(19101, 31)"
      ]
     },
     "execution_count": 139,
     "metadata": {},
     "output_type": "execute_result"
    }
   ],
   "source": [
    "product.shape"
   ]
  },
  {
   "cell_type": "code",
   "execution_count": 140,
   "metadata": {
    "collapsed": false
   },
   "outputs": [
    {
     "data": {
      "text/plain": [
       "(5460, 18)"
      ]
     },
     "execution_count": 140,
     "metadata": {},
     "output_type": "execute_result"
    }
   ],
   "source": [
    "Accessories.shape"
   ]
  },
  {
   "cell_type": "code",
   "execution_count": 142,
   "metadata": {
    "collapsed": false
   },
   "outputs": [
    {
     "data": {
      "text/plain": [
       "Index(['NB of stones', 'alloy type', 'amount', 'article ID', 'article label',\n",
       "       'carats stone', 'center stone', 'collection ID', 'collection label',\n",
       "       'energy movement', 'hier 2', 'hier 3', 'hier 4', 'hier 5', 'hier 6',\n",
       "       'hier 7', 'launch date', 'life cycle ID', 'life cycle label', 'line',\n",
       "       'main material', 'material group', 'number of clients',\n",
       "       'product group ID', 'product group label', 'product segment',\n",
       "       'quantity', 'size_dimension', 'size_of_watch', 'stone',\n",
       "       'strap material'],\n",
       "      dtype='object')"
      ]
     },
     "execution_count": 142,
     "metadata": {},
     "output_type": "execute_result"
    }
   ],
   "source": [
    "product.columns"
   ]
  },
  {
   "cell_type": "code",
   "execution_count": 143,
   "metadata": {
    "collapsed": false
   },
   "outputs": [
    {
     "data": {
      "text/plain": [
       "(96230, 24)"
      ]
     },
     "execution_count": 143,
     "metadata": {},
     "output_type": "execute_result"
    }
   ],
   "source": [
    "short.shape"
   ]
  },
  {
   "cell_type": "code",
   "execution_count": 144,
   "metadata": {
    "collapsed": true
   },
   "outputs": [],
   "source": [
    "data = pd.merge(short, product, on = 'article ID')"
   ]
  },
  {
   "cell_type": "code",
   "execution_count": 145,
   "metadata": {
    "collapsed": false
   },
   "outputs": [
    {
     "data": {
      "text/plain": [
       "(87518, 54)"
      ]
     },
     "execution_count": 145,
     "metadata": {},
     "output_type": "execute_result"
    }
   ],
   "source": [
    "data.shape"
   ]
  },
  {
   "cell_type": "code",
   "execution_count": 149,
   "metadata": {
    "collapsed": false
   },
   "outputs": [
    {
     "data": {
      "text/plain": [
       "Jewelry Ring            28641\n",
       "Jewelry Bracelet        12197\n",
       "Jewelry Necklace         5069\n",
       "Jewelry Earring          2042\n",
       "Jewelry Charms            631\n",
       "US Jewelry Ring           592\n",
       "Jewelry Pendant           311\n",
       "US Jewelry Earring         76\n",
       "Jewelry Men's Jewelr       69\n",
       "US Jewelry Necklace        44\n",
       "US Jewelry Pendant         13\n",
       "Jewelry Brooch             10\n",
       "US Jewelry Bracelet         4\n",
       "Name: material group, dtype: int64"
      ]
     },
     "execution_count": 149,
     "metadata": {},
     "output_type": "execute_result"
    }
   ],
   "source": [
    "data['material group'].value_counts()"
   ]
  },
  {
   "cell_type": "code",
   "execution_count": 151,
   "metadata": {
    "collapsed": true
   },
   "outputs": [],
   "source": [
    "short = pd.read_csv(\"Benjamin/Short.csv\", sep = \";\")\n",
    "Jewelry = pd.read_excel(\"Peter/Jewelry.xlsx\")\n",
    "Watches = pd.read_excel(\"Peter/Watches.xlsx\")\n",
    "Accessories = pd.read_excel(\"Peter/Accessories & Other.xlsx\")\n",
    "short.columns = ['ClientCode', 'BoutiqueCode', 'BoutiqueName', 'article ID',\n",
    "       'TransactionType', 'NetAmount', 'Quantity', 'annee_transaction',\n",
    "       'date_transaction', 'Quantity_reelle', 'NetAmount_euros',\n",
    "       'date_first_transaction', 'first_transaction', 'code_transaction',\n",
    "       'Nationality', 'Country', 'Class', 'FirstPurchaseDateRange',\n",
    "       'date_naissance', 'date_creation', 'Gender2', 'Resident', 'NonResident',\n",
    "       'ProductDescription']\n",
    "short['article ID'] = short['article ID'].map(str.strip)\n",
    "product = pd.concat([Jewelry, Watches, Accessories])\n",
    "base = pd.merge(short, product, on = 'article ID')"
   ]
  },
  {
   "cell_type": "code",
   "execution_count": 159,
   "metadata": {
    "collapsed": true
   },
   "outputs": [],
   "source": [
    "data.to_csv('Base transaction produit.csv')"
   ]
  },
  {
   "cell_type": "code",
   "execution_count": 157,
   "metadata": {
    "collapsed": false
   },
   "outputs": [],
   "source": [
    "(data.columns) = ['ClientCode',\n",
    " 'BoutiqueCode',\n",
    " 'BoutiqueName',\n",
    " 'ProductReference',\n",
    " 'TransactionType',\n",
    " 'NetAmount',\n",
    " 'Quantity',\n",
    " 'annee_transaction',\n",
    " 'date_transaction',\n",
    " 'Quantity_reelle',\n",
    " 'NetAmount_euros',\n",
    " 'date_first_transaction',\n",
    " 'first_transaction',\n",
    " 'code_transaction',\n",
    " 'Nationality',\n",
    " 'Country',\n",
    " 'Class',\n",
    " 'FirstPurchaseDateRange',\n",
    " 'date_naissance',\n",
    " 'date_creation',\n",
    " 'Gender2',\n",
    " 'Resident',\n",
    " 'NonResident',\n",
    " 'ProductDescription',\n",
    " 'NB of stones',\n",
    " 'alloy type',\n",
    " 'amount',\n",
    " 'article label',\n",
    " 'carats stone',\n",
    " 'center stone',\n",
    " 'collection ID',\n",
    " 'collection label',\n",
    " 'energy movement',\n",
    " 'hier 2',\n",
    " 'hier 3',\n",
    " 'hier 4',\n",
    " 'hier 5',\n",
    " 'hier 6',\n",
    " 'hier 7',\n",
    " 'launch date',\n",
    " 'life cycle ID',\n",
    " 'life cycle label',\n",
    " 'line',\n",
    " 'main material',\n",
    " 'material group',\n",
    " 'number of clients',\n",
    " 'product group ID',\n",
    " 'product group label',\n",
    " 'product segment',\n",
    " 'quantity',\n",
    " 'size_dimension',\n",
    " 'size_of_watch',\n",
    " 'stone',\n",
    " 'strap material']"
   ]
  },
  {
   "cell_type": "code",
   "execution_count": 158,
   "metadata": {
    "collapsed": false
   },
   "outputs": [
    {
     "data": {
      "text/plain": [
       "Index(['ClientCode', 'BoutiqueCode', 'BoutiqueName', 'ProductReference',\n",
       "       'TransactionType', 'NetAmount', 'Quantity', 'annee_transaction',\n",
       "       'date_transaction', 'Quantity_reelle', 'NetAmount_euros',\n",
       "       'date_first_transaction', 'first_transaction', 'code_transaction',\n",
       "       'Nationality', 'Country', 'Class', 'FirstPurchaseDateRange',\n",
       "       'date_naissance', 'date_creation', 'Gender2', 'Resident', 'NonResident',\n",
       "       'ProductDescription', 'NB of stones', 'alloy type', 'amount',\n",
       "       'article label', 'carats stone', 'center stone', 'collection ID',\n",
       "       'collection label', 'energy movement', 'hier 2', 'hier 3', 'hier 4',\n",
       "       'hier 5', 'hier 6', 'hier 7', 'launch date', 'life cycle ID',\n",
       "       'life cycle label', 'line', 'main material', 'material group',\n",
       "       'number of clients', 'product group ID', 'product group label',\n",
       "       'product segment', 'quantity', 'size_dimension', 'size_of_watch',\n",
       "       'stone', 'strap material'],\n",
       "      dtype='object')"
      ]
     },
     "execution_count": 158,
     "metadata": {},
     "output_type": "execute_result"
    }
   ],
   "source": [
    "data.columns"
   ]
  },
  {
   "cell_type": "code",
   "execution_count": 160,
   "metadata": {
    "collapsed": false
   },
   "outputs": [
    {
     "data": {
      "text/html": [
       "<div>\n",
       "<table border=\"1\" class=\"dataframe\">\n",
       "  <thead>\n",
       "    <tr style=\"text-align: right;\">\n",
       "      <th></th>\n",
       "      <th>ClientCode</th>\n",
       "      <th>BoutiqueCode</th>\n",
       "      <th>BoutiqueName</th>\n",
       "      <th>ProductReference</th>\n",
       "      <th>TransactionType</th>\n",
       "      <th>NetAmount</th>\n",
       "      <th>Quantity</th>\n",
       "      <th>annee_transaction</th>\n",
       "      <th>date_transaction</th>\n",
       "      <th>Quantity_reelle</th>\n",
       "      <th>...</th>\n",
       "      <th>material group</th>\n",
       "      <th>number of clients</th>\n",
       "      <th>product group ID</th>\n",
       "      <th>product group label</th>\n",
       "      <th>product segment</th>\n",
       "      <th>quantity</th>\n",
       "      <th>size_dimension</th>\n",
       "      <th>size_of_watch</th>\n",
       "      <th>stone</th>\n",
       "      <th>strap material</th>\n",
       "    </tr>\n",
       "  </thead>\n",
       "  <tbody>\n",
       "    <tr>\n",
       "      <th>0</th>\n",
       "      <td>NA15000285</td>\n",
       "      <td>3020</td>\n",
       "      <td>CAR Miami BTQ</td>\n",
       "      <td>CRT1220407</td>\n",
       "      <td>SALE</td>\n",
       "      <td>120</td>\n",
       "      <td>1</td>\n",
       "      <td>2011</td>\n",
       "      <td>13519872000</td>\n",
       "      <td>1</td>\n",
       "      <td>...</td>\n",
       "      <td>NaN</td>\n",
       "      <td>142</td>\n",
       "      <td>-</td>\n",
       "      <td>1/-</td>\n",
       "      <td>Other segments</td>\n",
       "      <td>139</td>\n",
       "      <td>NaN</td>\n",
       "      <td>NaN</td>\n",
       "      <td>NaN</td>\n",
       "      <td>NaN</td>\n",
       "    </tr>\n",
       "    <tr>\n",
       "      <th>1</th>\n",
       "      <td>NA15139160</td>\n",
       "      <td>3037</td>\n",
       "      <td>CAR NY Fifth Ave BTQ</td>\n",
       "      <td>CRT1220407</td>\n",
       "      <td>SALE</td>\n",
       "      <td>130</td>\n",
       "      <td>1</td>\n",
       "      <td>2012</td>\n",
       "      <td>13546828800</td>\n",
       "      <td>1</td>\n",
       "      <td>...</td>\n",
       "      <td>NaN</td>\n",
       "      <td>142</td>\n",
       "      <td>-</td>\n",
       "      <td>1/-</td>\n",
       "      <td>Other segments</td>\n",
       "      <td>139</td>\n",
       "      <td>NaN</td>\n",
       "      <td>NaN</td>\n",
       "      <td>NaN</td>\n",
       "      <td>NaN</td>\n",
       "    </tr>\n",
       "    <tr>\n",
       "      <th>2</th>\n",
       "      <td>NA15150867</td>\n",
       "      <td>3047</td>\n",
       "      <td>CAR Short Hills BTQ</td>\n",
       "      <td>CRT1220407</td>\n",
       "      <td>SALE</td>\n",
       "      <td>120</td>\n",
       "      <td>1</td>\n",
       "      <td>2010</td>\n",
       "      <td>13502246400</td>\n",
       "      <td>1</td>\n",
       "      <td>...</td>\n",
       "      <td>NaN</td>\n",
       "      <td>142</td>\n",
       "      <td>-</td>\n",
       "      <td>1/-</td>\n",
       "      <td>Other segments</td>\n",
       "      <td>139</td>\n",
       "      <td>NaN</td>\n",
       "      <td>NaN</td>\n",
       "      <td>NaN</td>\n",
       "      <td>NaN</td>\n",
       "    </tr>\n",
       "    <tr>\n",
       "      <th>3</th>\n",
       "      <td>NA15220701</td>\n",
       "      <td>3042</td>\n",
       "      <td>CAR Santa Clara BTQ</td>\n",
       "      <td>CRT1220407</td>\n",
       "      <td>SALE</td>\n",
       "      <td>120</td>\n",
       "      <td>1</td>\n",
       "      <td>2009</td>\n",
       "      <td>13453430400</td>\n",
       "      <td>1</td>\n",
       "      <td>...</td>\n",
       "      <td>NaN</td>\n",
       "      <td>142</td>\n",
       "      <td>-</td>\n",
       "      <td>1/-</td>\n",
       "      <td>Other segments</td>\n",
       "      <td>139</td>\n",
       "      <td>NaN</td>\n",
       "      <td>NaN</td>\n",
       "      <td>NaN</td>\n",
       "      <td>NaN</td>\n",
       "    </tr>\n",
       "    <tr>\n",
       "      <th>4</th>\n",
       "      <td>NA15286622</td>\n",
       "      <td>3030</td>\n",
       "      <td>CAR Ala Moana BTQ</td>\n",
       "      <td>CRT1220407</td>\n",
       "      <td>SALE</td>\n",
       "      <td>120</td>\n",
       "      <td>1</td>\n",
       "      <td>2009</td>\n",
       "      <td>13453689600</td>\n",
       "      <td>1</td>\n",
       "      <td>...</td>\n",
       "      <td>NaN</td>\n",
       "      <td>142</td>\n",
       "      <td>-</td>\n",
       "      <td>1/-</td>\n",
       "      <td>Other segments</td>\n",
       "      <td>139</td>\n",
       "      <td>NaN</td>\n",
       "      <td>NaN</td>\n",
       "      <td>NaN</td>\n",
       "      <td>NaN</td>\n",
       "    </tr>\n",
       "  </tbody>\n",
       "</table>\n",
       "<p>5 rows × 54 columns</p>\n",
       "</div>"
      ],
      "text/plain": [
       "             ClientCode BoutiqueCode  \\\n",
       "0  NA15000285                   3020   \n",
       "1  NA15139160                   3037   \n",
       "2  NA15150867                   3047   \n",
       "3  NA15220701                   3042   \n",
       "4  NA15286622                   3030   \n",
       "\n",
       "                               BoutiqueName ProductReference TransactionType  \\\n",
       "0  CAR Miami BTQ                                  CRT1220407           SALE    \n",
       "1  CAR NY Fifth Ave BTQ                           CRT1220407           SALE    \n",
       "2  CAR Short Hills BTQ                            CRT1220407           SALE    \n",
       "3  CAR Santa Clara BTQ                            CRT1220407           SALE    \n",
       "4  CAR Ala Moana BTQ                              CRT1220407           SALE    \n",
       "\n",
       "   NetAmount  Quantity  annee_transaction  date_transaction  Quantity_reelle  \\\n",
       "0        120         1               2011       13519872000                1   \n",
       "1        130         1               2012       13546828800                1   \n",
       "2        120         1               2010       13502246400                1   \n",
       "3        120         1               2009       13453430400                1   \n",
       "4        120         1               2009       13453689600                1   \n",
       "\n",
       "        ...        material group  number of clients    product group ID  \\\n",
       "0       ...                   NaN                142  -                    \n",
       "1       ...                   NaN                142  -                    \n",
       "2       ...                   NaN                142  -                    \n",
       "3       ...                   NaN                142  -                    \n",
       "4       ...                   NaN                142  -                    \n",
       "\n",
       "  product group label product segment quantity size_dimension size_of_watch  \\\n",
       "0                 1/-  Other segments      139            NaN           NaN   \n",
       "1                 1/-  Other segments      139            NaN           NaN   \n",
       "2                 1/-  Other segments      139            NaN           NaN   \n",
       "3                 1/-  Other segments      139            NaN           NaN   \n",
       "4                 1/-  Other segments      139            NaN           NaN   \n",
       "\n",
       "   stone  strap material  \n",
       "0    NaN             NaN  \n",
       "1    NaN             NaN  \n",
       "2    NaN             NaN  \n",
       "3    NaN             NaN  \n",
       "4    NaN             NaN  \n",
       "\n",
       "[5 rows x 54 columns]"
      ]
     },
     "execution_count": 160,
     "metadata": {},
     "output_type": "execute_result"
    }
   ],
   "source": [
    "data.head()"
   ]
  },
  {
   "cell_type": "code",
   "execution_count": 161,
   "metadata": {
    "collapsed": true
   },
   "outputs": [],
   "source": [
    "data['ClientCode'] = data['ClientCode'].map(str.strip)"
   ]
  },
  {
   "cell_type": "code",
   "execution_count": 162,
   "metadata": {
    "collapsed": false
   },
   "outputs": [
    {
     "data": {
      "text/plain": [
       "0        NA15000285\n",
       "1        NA15139160\n",
       "2        NA15150867\n",
       "3        NA15220701\n",
       "4        NA15286622\n",
       "5        NA15462129\n",
       "6        NA15488275\n",
       "7        NA15490482\n",
       "8        NA15505496\n",
       "9        NA15517823\n",
       "10       NA15525768\n",
       "11       NA15528028\n",
       "12       NA15540915\n",
       "13       NA15576473\n",
       "14       NA15588242\n",
       "15       NA15657027\n",
       "16       NA15659116\n",
       "17       NA15738446\n",
       "18       NA15755950\n",
       "19       NA15782681\n",
       "20       NA15782829\n",
       "21       NA15785103\n",
       "22       NA15785103\n",
       "23       NA15792799\n",
       "24       NA15793962\n",
       "25       NA15797282\n",
       "26       NA15797976\n",
       "27       NA15811947\n",
       "28       NA15812093\n",
       "29       NA15814463\n",
       "            ...    \n",
       "87488    NA18207508\n",
       "87489    NA18208027\n",
       "87490    NA18211563\n",
       "87491    NA18212180\n",
       "87492    NA18213335\n",
       "87493    NA18213734\n",
       "87494    NA18214916\n",
       "87495    NA18215267\n",
       "87496    NA18215698\n",
       "87497     NA5019684\n",
       "87498     NA5116009\n",
       "87499     NA5132488\n",
       "87500     NA5146108\n",
       "87501     NA5147341\n",
       "87502     NA5163752\n",
       "87503     NA5173749\n",
       "87504     NA5194491\n",
       "87505     NA5235494\n",
       "87506     NA5377221\n",
       "87507     NA5403422\n",
       "87508     NA5451244\n",
       "87509     NA5452914\n",
       "87510     NA5459559\n",
       "87511     NA5465670\n",
       "87512     NA5477524\n",
       "87513     NA5494602\n",
       "87514     NA5496984\n",
       "87515     NA5507959\n",
       "87516     NA5553101\n",
       "87517     NA5557554\n",
       "Name: ClientCode, dtype: object"
      ]
     },
     "execution_count": 162,
     "metadata": {},
     "output_type": "execute_result"
    }
   ],
   "source": [
    "data.ClientCode"
   ]
  },
  {
   "cell_type": "code",
   "execution_count": 186,
   "metadata": {
    "collapsed": false
   },
   "outputs": [],
   "source": [
    "client_watch = (list((data['ClientCode'][data['ProductReference'].isin(w)]).unique()))"
   ]
  },
  {
   "cell_type": "code",
   "execution_count": 187,
   "metadata": {
    "collapsed": false
   },
   "outputs": [],
   "source": [
    "client_jewelry = (list((data['ClientCode'][data['ProductReference'].isin(j)]).unique()))"
   ]
  },
  {
   "cell_type": "code",
   "execution_count": 188,
   "metadata": {
    "collapsed": false
   },
   "outputs": [],
   "source": [
    "client_accessories = (list((data['ClientCode'][data['ProductReference'].isin(ac)]).unique()))"
   ]
  },
  {
   "cell_type": "code",
   "execution_count": 207,
   "metadata": {
    "collapsed": false
   },
   "outputs": [],
   "source": [
    "purchase = {}\n",
    "for i in list(data['ClientCode'].unique()):\n",
    "    purchase[i] = (data[data['ClientCode'] == i].shape[0])"
   ]
  },
  {
   "cell_type": "code",
   "execution_count": 194,
   "metadata": {
    "collapsed": false
   },
   "outputs": [
    {
     "data": {
      "text/plain": [
       "2"
      ]
     },
     "execution_count": 194,
     "metadata": {},
     "output_type": "execute_result"
    }
   ],
   "source": [
    "data[data['ClientCode'] == 'NA15002408'].shape[0]"
   ]
  },
  {
   "cell_type": "code",
   "execution_count": 203,
   "metadata": {
    "collapsed": false
   },
   "outputs": [
    {
     "data": {
      "text/plain": [
       "950"
      ]
     },
     "execution_count": 203,
     "metadata": {},
     "output_type": "execute_result"
    }
   ],
   "source": [
    "len(list(set(client_watch).intersection(client_accessories)))"
   ]
  },
  {
   "cell_type": "code",
   "execution_count": 204,
   "metadata": {
    "collapsed": false
   },
   "outputs": [
    {
     "data": {
      "text/plain": [
       "1686"
      ]
     },
     "execution_count": 204,
     "metadata": {},
     "output_type": "execute_result"
    }
   ],
   "source": [
    "len(list(set(client_watch).intersection(client_jewelry)))"
   ]
  },
  {
   "cell_type": "code",
   "execution_count": 205,
   "metadata": {
    "collapsed": false
   },
   "outputs": [
    {
     "data": {
      "text/plain": [
       "1987"
      ]
     },
     "execution_count": 205,
     "metadata": {},
     "output_type": "execute_result"
    }
   ],
   "source": [
    "len(list(set(client_jewelry).intersection(client_accessories)))"
   ]
  },
  {
   "cell_type": "code",
   "execution_count": 208,
   "metadata": {
    "collapsed": false
   },
   "outputs": [
    {
     "data": {
      "text/plain": [
       "{'NA17454294': 1,\n",
       " 'NA18113546': 1,\n",
       " 'NA5242236': 2,\n",
       " 'NA18125217': 1,\n",
       " 'NA16827686': 1,\n",
       " 'NA17606408': 1,\n",
       " 'NA16865394': 1,\n",
       " 'NA16821873': 3,\n",
       " 'NA17369054': 1,\n",
       " 'NA17525076': 1,\n",
       " 'NA18141796': 2,\n",
       " 'NA16761360': 1,\n",
       " 'NA15792981': 2,\n",
       " 'NA17413403': 1,\n",
       " 'NA17602827': 1,\n",
       " 'NA17569866': 1,\n",
       " 'NA17568619': 1,\n",
       " 'NA16916719': 1,\n",
       " 'NA18159312': 1,\n",
       " 'NA15204163': 2,\n",
       " 'NA18205689': 1,\n",
       " 'NA15304627': 3,\n",
       " 'NA15482770': 2,\n",
       " 'NA15464063': 1,\n",
       " 'NA15289842': 1,\n",
       " 'NA18185545': 1,\n",
       " 'NA17373091': 1,\n",
       " 'NA17513458': 1,\n",
       " 'NA18124247': 1,\n",
       " 'NA17614731': 2,\n",
       " 'NA18142811': 2,\n",
       " 'NA5044665': 3,\n",
       " 'NA17606206': 1,\n",
       " 'NA16769425': 1,\n",
       " 'NA17606635': 1,\n",
       " 'NA15514428': 1,\n",
       " 'NA15210264': 1,\n",
       " 'NA17652271': 2,\n",
       " 'NA15769210': 4,\n",
       " 'NA17689527': 2,\n",
       " 'NA15189644': 1,\n",
       " 'NA17597373': 1,\n",
       " 'NA16835943': 2,\n",
       " 'NA16854032': 1,\n",
       " 'NA17082786': 1,\n",
       " 'NA17609105': 1,\n",
       " 'NA15526660': 1,\n",
       " 'NA16797536': 2,\n",
       " 'NA15672731': 1,\n",
       " 'NA17681786': 1,\n",
       " 'NA15526517': 3,\n",
       " 'NA17485532': 1,\n",
       " 'NA17352772': 2,\n",
       " 'NA18053960': 1,\n",
       " 'NA17345165': 1,\n",
       " 'NA18051889': 1,\n",
       " 'NA5395894': 1,\n",
       " 'NA17660280': 1,\n",
       " 'NA17374444': 1,\n",
       " 'NA17362613': 2,\n",
       " 'NA16809223': 1,\n",
       " 'NA17617188': 1,\n",
       " 'NA16834423': 2,\n",
       " 'NA17429879': 1,\n",
       " 'NA17648607': 1,\n",
       " 'NA17684619': 1,\n",
       " 'NA17587646': 2,\n",
       " 'NA17561726': 1,\n",
       " 'NA17504443': 1,\n",
       " 'NA16902225': 1,\n",
       " 'NA17584616': 1,\n",
       " 'NA15441033': 1,\n",
       " 'NA17064307': 1,\n",
       " 'NA18190416': 1,\n",
       " 'NA18207420': 1,\n",
       " 'NA16846367': 1,\n",
       " 'NA17015827': 2,\n",
       " 'NA15814093': 1,\n",
       " 'NA15149400': 1,\n",
       " 'NA17152328': 1,\n",
       " 'NA17550288': 1,\n",
       " 'NA16768921': 1,\n",
       " 'NA16802784': 1,\n",
       " 'NA18183575': 1,\n",
       " 'NA15787535': 1,\n",
       " 'NA16781960': 1,\n",
       " 'NA5212924': 3,\n",
       " 'NA17494031': 1,\n",
       " 'NA17683854': 1,\n",
       " 'NA15090371': 6,\n",
       " 'NA17510074': 1,\n",
       " 'NA18209329': 1,\n",
       " 'NA17434767': 1,\n",
       " 'NA16929337': 3,\n",
       " 'NA18185879': 3,\n",
       " 'NA16790686': 1,\n",
       " 'NA17509967': 1,\n",
       " 'NA15738530': 2,\n",
       " 'NA17061029': 2,\n",
       " 'NA16888812': 1,\n",
       " 'NA15463101': 1,\n",
       " 'NA18211840': 1,\n",
       " 'NA17475911': 1,\n",
       " 'NA17429933': 1,\n",
       " 'NA15804553': 4,\n",
       " 'NA17557310': 1,\n",
       " 'NA16777511': 2,\n",
       " 'NA17366918': 2,\n",
       " 'NA17693886': 1,\n",
       " 'NA18141022': 1,\n",
       " 'NA15254138': 3,\n",
       " 'NA15762375': 1,\n",
       " 'NA16917940': 1,\n",
       " 'NA17046533': 1,\n",
       " 'NA17578315': 1,\n",
       " 'NA17648436': 1,\n",
       " 'NA17103786': 1,\n",
       " 'NA5237107': 1,\n",
       " 'NA16792517': 3,\n",
       " 'NA17593493': 1,\n",
       " 'NA17656795': 1,\n",
       " 'NA18193144': 1,\n",
       " 'NA16789867': 1,\n",
       " 'NA17422873': 1,\n",
       " 'NA5082608': 1,\n",
       " 'NA15297653': 1,\n",
       " 'NA17573761': 1,\n",
       " 'NA18154640': 1,\n",
       " 'NA16954363': 1,\n",
       " 'NA16671738': 1,\n",
       " 'NA17587626': 1,\n",
       " 'NA15495731': 1,\n",
       " 'NA16777483': 1,\n",
       " 'NA15294454': 2,\n",
       " 'NA15498218': 1,\n",
       " 'NA16813753': 1,\n",
       " 'NA15808664': 2,\n",
       " 'NA17468974': 1,\n",
       " 'NA17150703': 1,\n",
       " 'NA16916350': 1,\n",
       " 'NA18107923': 3,\n",
       " 'NA16871501': 2,\n",
       " 'NA15806778': 2,\n",
       " 'NA16747817': 1,\n",
       " 'NA17134056': 2,\n",
       " 'NA17123917': 2,\n",
       " 'NA17494192': 1,\n",
       " 'NA5276485': 1,\n",
       " 'NA16909015': 1,\n",
       " 'NA17104297': 1,\n",
       " 'NA17608223': 1,\n",
       " 'NA17042741': 1,\n",
       " 'NA18192060': 1,\n",
       " 'NA16928820': 4,\n",
       " 'NA16767939': 1,\n",
       " 'NA17464709': 1,\n",
       " 'NA17373613': 1,\n",
       " 'NA17134570': 2,\n",
       " 'NA18171220': 1,\n",
       " 'NA17072558': 2,\n",
       " 'NA5069637': 2,\n",
       " 'NA15532375': 1,\n",
       " 'NA15567257': 1,\n",
       " 'NA17488740': 2,\n",
       " 'NA18206091': 2,\n",
       " 'NA17087859': 1,\n",
       " 'NA17423013': 2,\n",
       " 'NA17665705': 1,\n",
       " 'NA18151405': 2,\n",
       " 'NA16813630': 2,\n",
       " 'NA15039559': 1,\n",
       " 'NA16832307': 1,\n",
       " 'NA15760159': 2,\n",
       " 'NA17142040': 2,\n",
       " 'NA17541641': 1,\n",
       " 'NA17679624': 2,\n",
       " 'NA18065720': 1,\n",
       " 'NA15172472': 1,\n",
       " 'NA17694046': 1,\n",
       " 'NA15263586': 3,\n",
       " 'NA16887010': 1,\n",
       " 'NA17102889': 2,\n",
       " 'NA17442077': 1,\n",
       " 'NA18073065': 1,\n",
       " 'NA15582990': 1,\n",
       " 'NA18047775': 1,\n",
       " 'NA18041978': 1,\n",
       " 'NA16924454': 1,\n",
       " 'NA16882044': 2,\n",
       " 'NA17657852': 2,\n",
       " 'NA16772669': 1,\n",
       " 'NA18149200': 1,\n",
       " 'NA15789705': 1,\n",
       " 'NA15002867': 3,\n",
       " 'NA16873950': 1,\n",
       " 'NA16928014': 1,\n",
       " 'NA15811429': 1,\n",
       " 'NA15813109': 1,\n",
       " 'NA15757545': 1,\n",
       " 'NA18127749': 1,\n",
       " 'NA18203160': 1,\n",
       " 'NA17492375': 1,\n",
       " 'NA17591268': 3,\n",
       " 'NA18184455': 1,\n",
       " 'NA16511015': 2,\n",
       " 'NA15602326': 3,\n",
       " 'NA16861688': 1,\n",
       " 'NA18213959': 1,\n",
       " 'NA17208123': 4,\n",
       " 'NA16777564': 1,\n",
       " 'NA18181745': 1,\n",
       " 'NA16753469': 2,\n",
       " 'NA17455583': 1,\n",
       " 'NA17045711': 1,\n",
       " 'NA17449751': 4,\n",
       " 'NA17396947': 1,\n",
       " 'NA17686314': 1,\n",
       " 'NA17551631': 1,\n",
       " 'NA15291521': 1,\n",
       " 'NA18141229': 1,\n",
       " 'NA16760364': 1,\n",
       " 'NA5098629': 1,\n",
       " 'NA17382175': 1,\n",
       " 'NA18096280': 1,\n",
       " 'NA15520337': 2,\n",
       " 'NA18182077': 1,\n",
       " 'NA17589015': 1,\n",
       " 'NA17616013': 1,\n",
       " 'NA17119582': 1,\n",
       " 'NA16924750': 2,\n",
       " 'NA16871439': 1,\n",
       " 'NA15190046': 2,\n",
       " 'NA15526201': 1,\n",
       " 'NA5189032': 1,\n",
       " 'NA16865617': 1,\n",
       " 'NA18183852': 3,\n",
       " 'NA5302895': 1,\n",
       " 'NA16910161': 1,\n",
       " 'NA15816704': 1,\n",
       " 'NA16875185': 1,\n",
       " 'NA17061366': 2,\n",
       " 'NA18102390': 1,\n",
       " 'NA17650952': 1,\n",
       " 'NA16788581': 1,\n",
       " 'NA17445417': 1,\n",
       " 'NA17444041': 1,\n",
       " 'NA15804101': 2,\n",
       " 'NA17682832': 1,\n",
       " 'NA17156526': 1,\n",
       " 'NA16802050': 1,\n",
       " 'NA17443937': 1,\n",
       " 'NA17571360': 1,\n",
       " 'NA5343442': 1,\n",
       " 'NA17079521': 1,\n",
       " 'NA15310086': 1,\n",
       " 'NA17648311': 1,\n",
       " 'NA18126652': 2,\n",
       " 'NA18126631': 1,\n",
       " 'NA17353615': 1,\n",
       " 'NA18157875': 1,\n",
       " 'NA17085112': 1,\n",
       " 'NA16812639': 1,\n",
       " 'NA17430163': 1,\n",
       " 'NA16821205': 1,\n",
       " 'NA17640052': 1,\n",
       " 'NA17376805': 3,\n",
       " 'NA15071278': 2,\n",
       " 'NA18182012': 1,\n",
       " 'NA17047861': 2,\n",
       " 'NA18215420': 1,\n",
       " 'NA16816150': 1,\n",
       " 'NA17605825': 2,\n",
       " 'NA17361763': 1,\n",
       " 'NA17054908': 2,\n",
       " 'NA18181891': 1,\n",
       " 'NA5266755': 2,\n",
       " 'NA15816871': 2,\n",
       " 'NA15241882': 1,\n",
       " 'NA17532606': 1,\n",
       " 'NA17481349': 1,\n",
       " 'NA18128957': 2,\n",
       " 'NA15482289': 1,\n",
       " 'NA17666393': 1,\n",
       " 'NA17584857': 1,\n",
       " 'NA17464853': 2,\n",
       " 'NA17402404': 1,\n",
       " 'NA17510664': 1,\n",
       " 'NA16846004': 1,\n",
       " 'NA17411899': 2,\n",
       " 'NA17504352': 1,\n",
       " 'NA5139171': 3,\n",
       " 'NA18205892': 1,\n",
       " 'NA18144203': 1,\n",
       " 'NA17501314': 1,\n",
       " 'NA17649598': 1,\n",
       " 'NA17430074': 1,\n",
       " 'NA15789287': 2,\n",
       " 'NA17053074': 1,\n",
       " 'NA17448221': 1,\n",
       " 'NA15805286': 1,\n",
       " 'NA5327569': 1,\n",
       " 'NA17599443': 1,\n",
       " 'NA18149260': 1,\n",
       " 'NA18200880': 2,\n",
       " 'NA17465438': 1,\n",
       " 'NA18109867': 1,\n",
       " 'NA17476737': 1,\n",
       " 'NA15509991': 1,\n",
       " 'NA17144241': 2,\n",
       " 'NA17508371': 2,\n",
       " 'NA16852976': 2,\n",
       " 'NA15803768': 2,\n",
       " 'NA16798018': 1,\n",
       " 'NA17137264': 3,\n",
       " 'NA17687540': 1,\n",
       " 'NA17687624': 2,\n",
       " 'NA17599401': 1,\n",
       " 'NA17615842': 1,\n",
       " 'NA17459486': 1,\n",
       " 'NA5500515': 1,\n",
       " 'NA17681735': 1,\n",
       " 'NA15514142': 1,\n",
       " 'NA16852007': 1,\n",
       " 'NA17464898': 1,\n",
       " 'NA17576110': 1,\n",
       " 'NA15800759': 3,\n",
       " 'NA17490329': 1,\n",
       " 'NA17609183': 2,\n",
       " 'NA18172542': 2,\n",
       " 'NA17404930': 2,\n",
       " 'NA15178181': 1,\n",
       " 'NA18163100': 2,\n",
       " 'NA15065845': 1,\n",
       " 'NA17475310': 1,\n",
       " 'NA16854257': 1,\n",
       " 'NA17567945': 1,\n",
       " 'NA17112767': 1,\n",
       " 'NA17344972': 1,\n",
       " 'NA16863292': 1,\n",
       " 'NA16812892': 1,\n",
       " 'NA16884335': 1,\n",
       " 'NA5166864': 1,\n",
       " 'NA17100208': 1,\n",
       " 'NA16788644': 1,\n",
       " 'NA18124456': 4,\n",
       " 'NA15758247': 2,\n",
       " 'NA17474758': 1,\n",
       " 'NA18048233': 1,\n",
       " 'NA16940401': 3,\n",
       " 'NA15487539': 1,\n",
       " 'NA17377063': 2,\n",
       " 'NA16752376': 1,\n",
       " 'NA17524032': 3,\n",
       " 'NA18198209': 1,\n",
       " 'NA17510500': 3,\n",
       " 'NA18202017': 1,\n",
       " 'NA17459389': 1,\n",
       " 'NA16827521': 1,\n",
       " 'NA17571063': 1,\n",
       " 'NA17516845': 2,\n",
       " 'NA17141824': 2,\n",
       " 'NA16921958': 1,\n",
       " 'NA17569932': 1,\n",
       " 'NA15641077': 1,\n",
       " 'NA17693418': 1,\n",
       " 'NA17644815': 1,\n",
       " 'NA17534605': 1,\n",
       " 'NA17800847': 1,\n",
       " 'NA15233651': 1,\n",
       " 'NA17076832': 1,\n",
       " 'NA18053341': 1,\n",
       " 'NA15093702': 2,\n",
       " 'NA15498989': 1,\n",
       " 'NA15519339': 2,\n",
       " 'NA17060063': 1,\n",
       " 'NA18154749': 1,\n",
       " 'NA15538661': 2,\n",
       " 'NA15791090': 1,\n",
       " 'NA16511624': 1,\n",
       " 'NA17458060': 1,\n",
       " 'NA17529920': 1,\n",
       " 'NA16888730': 1,\n",
       " 'NA15118511': 2,\n",
       " 'NA17496123': 2,\n",
       " 'NA18205984': 1,\n",
       " 'NA17597076': 3,\n",
       " 'NA17605171': 2,\n",
       " 'NA18128658': 1,\n",
       " 'NA15110127': 3,\n",
       " 'NA18158100': 1,\n",
       " 'NA16928838': 1,\n",
       " 'NA18170149': 1,\n",
       " 'NA17541765': 1,\n",
       " 'NA17038698': 1,\n",
       " 'NA17065095': 1,\n",
       " 'NA16862469': 2,\n",
       " 'NA18038632': 1,\n",
       " 'NA17435282': 1,\n",
       " 'NA16830384': 3,\n",
       " 'NA18116626': 1,\n",
       " 'NA17053616': 1,\n",
       " 'NA16940487': 1,\n",
       " 'NA17434189': 1,\n",
       " 'NA17603497': 1,\n",
       " 'NA15488890': 1,\n",
       " 'NA18103737': 2,\n",
       " 'NA18159786': 2,\n",
       " 'NA17580478': 2,\n",
       " 'NA18096206': 3,\n",
       " 'NA15550439': 1,\n",
       " 'NA16787124': 7,\n",
       " 'NA18138925': 1,\n",
       " 'NA15769242': 7,\n",
       " 'NA15273794': 1,\n",
       " 'NA17568165': 1,\n",
       " 'NA18186735': 3,\n",
       " 'NA17416952': 1,\n",
       " 'NA15504163': 1,\n",
       " 'NA5393825': 2,\n",
       " 'NA17112761': 1,\n",
       " 'NA17124628': 1,\n",
       " 'NA18168548': 1,\n",
       " 'NA17666421': 2,\n",
       " 'NA17495632': 1,\n",
       " 'NA15036491': 1,\n",
       " 'NA16694251': 1,\n",
       " 'NA18181989': 2,\n",
       " 'NA18171193': 1,\n",
       " 'NA17450968': 1,\n",
       " 'NA17384267': 1,\n",
       " 'NA16674514': 1,\n",
       " 'NA17101740': 1,\n",
       " 'NA17519389': 1,\n",
       " 'NA17592924': 1,\n",
       " 'NA17093539': 1,\n",
       " 'NA18204403': 1,\n",
       " 'NA17068902': 1,\n",
       " 'NA17598799': 1,\n",
       " 'NA17565396': 1,\n",
       " 'NA17401180': 3,\n",
       " 'NA16857442': 2,\n",
       " 'NA16835097': 1,\n",
       " 'NA17118963': 1,\n",
       " 'NA17666427': 1,\n",
       " 'NA17077260': 1,\n",
       " 'NA17422577': 1,\n",
       " 'NA17397020': 1,\n",
       " 'NA15751544': 1,\n",
       " 'NA17137367': 1,\n",
       " 'NA15063164': 1,\n",
       " 'NA15296137': 1,\n",
       " 'NA16915880': 1,\n",
       " 'NA17490890': 1,\n",
       " 'NA15781301': 3,\n",
       " 'NA16699339': 1,\n",
       " 'NA17444292': 1,\n",
       " 'NA17649657': 3,\n",
       " 'NA17561195': 1,\n",
       " 'NA17384810': 3,\n",
       " 'NA15817566': 1,\n",
       " 'NA16829069': 1,\n",
       " 'NA15288311': 2,\n",
       " 'NA17454833': 2,\n",
       " 'NA15756072': 2,\n",
       " 'NA16940418': 1,\n",
       " 'NA17592473': 1,\n",
       " 'NA16913143': 4,\n",
       " 'NA17479365': 1,\n",
       " 'NA17555390': 1,\n",
       " 'NA17403166': 4,\n",
       " 'NA17366772': 1,\n",
       " 'NA16316595': 1,\n",
       " 'NA17135082': 1,\n",
       " 'NA15802812': 1,\n",
       " 'NA15516467': 2,\n",
       " 'NA17675931': 1,\n",
       " 'NA16804734': 1,\n",
       " 'NA18206350': 1,\n",
       " 'NA17682630': 1,\n",
       " 'NA16933430': 2,\n",
       " 'NA17437096': 1,\n",
       " 'NA17581622': 1,\n",
       " 'NA17112627': 2,\n",
       " 'NA18122661': 2,\n",
       " 'NA15256431': 4,\n",
       " 'NA17666426': 1,\n",
       " 'NA16748789': 1,\n",
       " 'NA17445552': 1,\n",
       " 'NA15808497': 1,\n",
       " 'NA18194536': 1,\n",
       " 'NA17382452': 1,\n",
       " 'NA16875222': 1,\n",
       " 'NA17450743': 1,\n",
       " 'NA16767814': 1,\n",
       " 'NA16789776': 6,\n",
       " 'NA17357188': 2,\n",
       " 'NA17492070': 1,\n",
       " 'NA17581957': 1,\n",
       " 'NA17455617': 1,\n",
       " 'NA17370653': 1,\n",
       " 'NA15126649': 3,\n",
       " 'NA17541043': 1,\n",
       " 'NA17553686': 1,\n",
       " 'NA16867246': 1,\n",
       " 'NA17135196': 1,\n",
       " 'NA17151126': 4,\n",
       " 'NA17524606': 3,\n",
       " 'NA18116997': 2,\n",
       " 'NA16686545': 2,\n",
       " 'NA15483689': 1,\n",
       " 'NA17578520': 1,\n",
       " 'NA17600598': 1,\n",
       " 'NA16859601': 1,\n",
       " 'NA17676196': 1,\n",
       " 'NA15031837': 3,\n",
       " 'NA17557963': 2,\n",
       " 'NA18150486': 1,\n",
       " 'NA16835067': 1,\n",
       " 'NA18188488': 1,\n",
       " 'NA16766412': 1,\n",
       " 'NA16856495': 1,\n",
       " 'NA16916411': 1,\n",
       " 'NA17403479': 1,\n",
       " 'NA16882638': 1,\n",
       " 'NA17498980': 1,\n",
       " 'NA18145298': 1,\n",
       " 'NA16874998': 2,\n",
       " 'NA17048080': 1,\n",
       " 'NA5494602': 1,\n",
       " 'NA18193453': 3,\n",
       " 'NA18049419': 2,\n",
       " 'NA17042940': 3,\n",
       " 'NA15550793': 1,\n",
       " 'NA16820307': 1,\n",
       " 'NA16886759': 2,\n",
       " 'NA18096145': 1,\n",
       " 'NA17112726': 1,\n",
       " 'NA16843899': 1,\n",
       " 'NA5018179': 1,\n",
       " 'NA17061397': 1,\n",
       " 'NA15319576': 1,\n",
       " 'NA17506743': 1,\n",
       " 'NA16952454': 1,\n",
       " 'NA16846692': 1,\n",
       " 'NA18107782': 1,\n",
       " 'NA17535859': 1,\n",
       " 'NA16784472': 2,\n",
       " 'NA17477042': 1,\n",
       " 'NA17673234': 5,\n",
       " 'NA17120826': 1,\n",
       " 'NA17096228': 2,\n",
       " 'NA17409380': 3,\n",
       " 'NA16762727': 2,\n",
       " 'NA17632179': 2,\n",
       " 'NA17382146': 2,\n",
       " 'NA15500351': 1,\n",
       " 'NA17684509': 3,\n",
       " 'NA15751990': 4,\n",
       " 'NA17549273': 2,\n",
       " 'NA5258351': 1,\n",
       " 'NA18192483': 2,\n",
       " 'NA17658457': 1,\n",
       " 'NA17047468': 1,\n",
       " 'NA17676922': 1,\n",
       " 'NA15282313': 5,\n",
       " 'NA17561797': 1,\n",
       " 'NA15792914': 1,\n",
       " 'NA17568189': 2,\n",
       " 'NA16893294': 1,\n",
       " 'NA5130048': 1,\n",
       " 'NA17425924': 1,\n",
       " 'NA16686479': 2,\n",
       " 'NA18200987': 2,\n",
       " 'NA15781202': 1,\n",
       " 'NA17591431': 2,\n",
       " 'NA17419913': 1,\n",
       " 'NA16862470': 5,\n",
       " 'NA15529466': 1,\n",
       " 'NA16821836': 1,\n",
       " 'NA16886781': 1,\n",
       " 'NA17109092': 1,\n",
       " 'NA16767363': 1,\n",
       " 'NA16881004': 3,\n",
       " 'NA17361189': 1,\n",
       " 'NA18170099': 1,\n",
       " 'NA15212698': 1,\n",
       " 'NA15782415': 3,\n",
       " 'NA17040199': 1,\n",
       " 'NA17551510': 1,\n",
       " 'NA16780835': 1,\n",
       " 'NA17076715': 2,\n",
       " 'NA16513574': 1,\n",
       " 'NA15552862': 3,\n",
       " 'NA16788693': 1,\n",
       " 'NA17102842': 1,\n",
       " 'NA17404221': 2,\n",
       " 'NA17621101': 1,\n",
       " 'NA16916446': 1,\n",
       " 'NA5558812': 2,\n",
       " 'NA17146716': 3,\n",
       " 'NA15087752': 1,\n",
       " 'NA17501776': 2,\n",
       " 'NA5348589': 1,\n",
       " 'NA16955513': 3,\n",
       " 'NA17468674': 1,\n",
       " 'NA15204211': 1,\n",
       " 'NA16791139': 2,\n",
       " 'NA17155159': 5,\n",
       " 'NA16787808': 1,\n",
       " 'NA17031833': 1,\n",
       " 'NA17588230': 1,\n",
       " 'NA16774882': 1,\n",
       " 'NA16770100': 1,\n",
       " 'NA17384146': 1,\n",
       " 'NA15500064': 1,\n",
       " 'NA17029455': 2,\n",
       " 'NA18169475': 1,\n",
       " 'NA15291645': 3,\n",
       " 'NA17569845': 1,\n",
       " 'NA17672644': 2,\n",
       " 'NA15522162': 1,\n",
       " 'NA16870531': 1,\n",
       " 'NA18119129': 1,\n",
       " 'NA17634086': 1,\n",
       " 'NA17599268': 1,\n",
       " 'NA16843627': 2,\n",
       " 'NA18105016': 2,\n",
       " 'NA15463268': 1,\n",
       " 'NA18190355': 1,\n",
       " 'NA16873054': 1,\n",
       " 'NA16870691': 1,\n",
       " 'NA17389921': 1,\n",
       " 'NA16860909': 1,\n",
       " 'NA18192446': 1,\n",
       " 'NA18205601': 1,\n",
       " 'NA15521098': 1,\n",
       " 'NA17695542': 1,\n",
       " 'NA17686491': 1,\n",
       " 'NA15139728': 1,\n",
       " 'NA17394283': 1,\n",
       " 'NA17611168': 1,\n",
       " 'NA16842839': 2,\n",
       " 'NA15513810': 2,\n",
       " 'NA16941031': 1,\n",
       " 'NA17679255': 1,\n",
       " 'NA16882723': 1,\n",
       " 'NA17607858': 2,\n",
       " 'NA18186696': 1,\n",
       " 'NA15307794': 1,\n",
       " 'NA18149360': 1,\n",
       " 'NA15492875': 1,\n",
       " 'NA18047961': 1,\n",
       " 'NA17433341': 1,\n",
       " 'NA18123102': 1,\n",
       " 'NA17083679': 2,\n",
       " 'NA17503207': 1,\n",
       " 'NA17490658': 2,\n",
       " 'NA15783476': 2,\n",
       " 'NA17462276': 1,\n",
       " 'NA18077415': 1,\n",
       " 'NA17657535': 1,\n",
       " 'NA17633388': 1,\n",
       " 'NA18116384': 1,\n",
       " 'NA16796163': 1,\n",
       " 'NA17415791': 1,\n",
       " 'NA15522673': 3,\n",
       " 'NA16873286': 1,\n",
       " 'NA16814301': 1,\n",
       " 'NA17385033': 1,\n",
       " 'NA15556808': 2,\n",
       " 'NA17438961': 1,\n",
       " 'NA15792758': 1,\n",
       " 'NA18127806': 1,\n",
       " 'NA15800974': 1,\n",
       " 'NA15310223': 1,\n",
       " 'NA15439757': 1,\n",
       " 'NA18053261': 1,\n",
       " 'NA18079156': 2,\n",
       " 'NA17667167': 1,\n",
       " 'NA17553040': 2,\n",
       " 'NA17577836': 1,\n",
       " 'NA16768182': 2,\n",
       " 'NA17515859': 1,\n",
       " 'NA17463801': 2,\n",
       " 'NA15550195': 2,\n",
       " 'NA16862389': 2,\n",
       " 'NA17422929': 1,\n",
       " 'NA15773241': 4,\n",
       " 'NA17607914': 1,\n",
       " 'NA18197253': 1,\n",
       " 'NA17805156': 3,\n",
       " 'NA15202159': 1,\n",
       " 'NA17430116': 1,\n",
       " 'NA15147633': 1,\n",
       " 'NA16671761': 1,\n",
       " 'NA17548689': 2,\n",
       " 'NA18201754': 1,\n",
       " 'NA15089371': 2,\n",
       " 'NA15803497': 1,\n",
       " 'NA17103436': 1,\n",
       " 'NA17546567': 1,\n",
       " 'NA17601734': 1,\n",
       " 'NA17114748': 1,\n",
       " 'NA15463297': 1,\n",
       " 'NA15760999': 1,\n",
       " 'NA17057432': 1,\n",
       " 'NA16940547': 1,\n",
       " 'NA15791298': 2,\n",
       " 'NA18173400': 1,\n",
       " 'NA15761408': 1,\n",
       " 'NA17434909': 1,\n",
       " 'NA18165014': 1,\n",
       " 'NA17360688': 1,\n",
       " 'NA16841088': 1,\n",
       " 'NA17534287': 1,\n",
       " 'NA18139675': 1,\n",
       " 'NA15764502': 1,\n",
       " 'NA16767810': 1,\n",
       " 'NA18159149': 1,\n",
       " 'NA17502440': 2,\n",
       " 'NA17047673': 2,\n",
       " 'NA5010091': 2,\n",
       " 'NA17133168': 1,\n",
       " 'NA17073254': 1,\n",
       " 'NA17462660': 1,\n",
       " 'NA15057329': 1,\n",
       " 'NA17383870': 1,\n",
       " 'NA17670327': 1,\n",
       " 'NA18047052': 1,\n",
       " 'NA18110057': 2,\n",
       " 'NA17454255': 2,\n",
       " 'NA17051861': 1,\n",
       " 'NA17058195': 4,\n",
       " 'NA17507237': 1,\n",
       " 'NA17497080': 1,\n",
       " 'NA16896674': 1,\n",
       " 'NA17629851': 1,\n",
       " 'NA16826670': 1,\n",
       " 'NA17553827': 1,\n",
       " 'NA16856964': 2,\n",
       " 'NA16929511': 1,\n",
       " 'NA16761378': 1,\n",
       " 'NA17088452': 3,\n",
       " 'NA16926227': 1,\n",
       " 'NA17360420': 1,\n",
       " 'NA16807566': 1,\n",
       " 'NA17357721': 1,\n",
       " 'NA17471186': 1,\n",
       " 'NA17450250': 1,\n",
       " 'NA17563447': 1,\n",
       " 'NA17113130': 1,\n",
       " 'NA16826981': 1,\n",
       " 'NA15679145': 1,\n",
       " 'NA17542637': 1,\n",
       " 'NA17635783': 1,\n",
       " 'NA17404313': 1,\n",
       " 'NA17658412': 2,\n",
       " 'NA18177475': 1,\n",
       " 'NA17481674': 1,\n",
       " 'NA17396876': 1,\n",
       " 'NA15762372': 2,\n",
       " 'NA17600895': 1,\n",
       " 'NA15517149': 1,\n",
       " 'NA17413552': 1,\n",
       " 'NA16918026': 2,\n",
       " 'NA18207117': 1,\n",
       " 'NA16886830': 2,\n",
       " 'NA18206390': 1,\n",
       " 'NA16793547': 2,\n",
       " 'NA16778278': 3,\n",
       " 'NA5050093': 1,\n",
       " 'NA16756662': 1,\n",
       " 'NA16699655': 1,\n",
       " 'NA16699577': 1,\n",
       " 'NA17681153': 1,\n",
       " 'NA17455928': 1,\n",
       " 'NA17614767': 1,\n",
       " 'NA15751026': 2,\n",
       " 'NA15815948': 1,\n",
       " 'NA15767953': 4,\n",
       " 'NA5560629': 2,\n",
       " 'NA17464015': 1,\n",
       " 'NA17083024': 1,\n",
       " 'NA17454026': 1,\n",
       " 'NA17424573': 1,\n",
       " 'NA18039677': 5,\n",
       " 'NA17406269': 1,\n",
       " 'NA15753178': 1,\n",
       " 'NA16834459': 1,\n",
       " 'NA17439695': 1,\n",
       " 'NA17076523': 1,\n",
       " 'NA18197366': 2,\n",
       " 'NA17594155': 1,\n",
       " 'NA18205500': 1,\n",
       " 'NA15183608': 3,\n",
       " 'NA15754279': 1,\n",
       " 'NA17455998': 2,\n",
       " 'NA17360184': 1,\n",
       " 'NA17489620': 1,\n",
       " 'NA17016501': 1,\n",
       " 'NA16894316': 2,\n",
       " 'NA17558617': 1,\n",
       " 'NA15211452': 1,\n",
       " 'NA17143364': 1,\n",
       " 'NA17651483': 1,\n",
       " 'NA15781306': 1,\n",
       " 'NA5125118': 1,\n",
       " 'NA16511989': 1,\n",
       " 'NA15546309': 1,\n",
       " 'NA17457452': 2,\n",
       " 'NA17585751': 1,\n",
       " 'NA17061332': 1,\n",
       " 'NA17640004': 1,\n",
       " 'NA17441566': 1,\n",
       " 'NA15057976': 1,\n",
       " 'NA18164007': 1,\n",
       " 'NA16839973': 1,\n",
       " 'NA17612458': 1,\n",
       " 'NA16762966': 1,\n",
       " 'NA17662443': 1,\n",
       " 'NA16875219': 1,\n",
       " 'NA15763835': 1,\n",
       " 'NA17522588': 1,\n",
       " 'NA17466573': 1,\n",
       " 'NA18065616': 1,\n",
       " 'NA17060783': 2,\n",
       " 'NA17577968': 1,\n",
       " 'NA17587525': 1,\n",
       " 'NA18215267': 1,\n",
       " 'NA18142814': 1,\n",
       " 'NA17464788': 1,\n",
       " 'NA15289929': 2,\n",
       " 'NA17106952': 1,\n",
       " 'NA17072266': 1,\n",
       " 'NA17549630': 1,\n",
       " 'NA17496959': 1,\n",
       " 'NA16836992': 3,\n",
       " 'NA18134597': 1,\n",
       " 'NA17578448': 1,\n",
       " 'NA15500722': 2,\n",
       " 'NA17616532': 2,\n",
       " 'NA17142457': 1,\n",
       " 'NA15797420': 1,\n",
       " 'NA5328791': 1,\n",
       " 'NA17126102': 2,\n",
       " 'NA17128795': 2,\n",
       " 'NA15441058': 1,\n",
       " 'NA16749404': 1,\n",
       " 'NA18040298': 1,\n",
       " 'NA16784595': 1,\n",
       " 'NA17361009': 1,\n",
       " 'NA17136718': 1,\n",
       " 'NA17577570': 2,\n",
       " 'NA17647963': 1,\n",
       " 'NA15807227': 1,\n",
       " 'NA16865015': 1,\n",
       " 'NA17042787': 2,\n",
       " 'NA18144995': 2,\n",
       " 'NA17085246': 1,\n",
       " 'NA17342732': 1,\n",
       " 'NA15783639': 1,\n",
       " 'NA17607629': 1,\n",
       " 'NA17354148': 1,\n",
       " 'NA17566599': 2,\n",
       " 'NA15531598': 1,\n",
       " 'NA16952634': 1,\n",
       " 'NA17062251': 1,\n",
       " 'NA17051496': 1,\n",
       " 'NA15622150': 1,\n",
       " 'NA15784588': 1,\n",
       " 'NA15559635': 3,\n",
       " 'NA17037400': 1,\n",
       " 'NA16813022': 2,\n",
       " 'NA17527463': 2,\n",
       " 'NA15809823': 2,\n",
       " 'NA17590825': 2,\n",
       " 'NA15274174': 1,\n",
       " 'NA17155186': 1,\n",
       " 'NA16776095': 2,\n",
       " 'NA16751484': 1,\n",
       " 'NA5415525': 2,\n",
       " 'NA17535802': 2,\n",
       " 'NA17445295': 2,\n",
       " 'NA15800418': 1,\n",
       " 'NA15786337': 4,\n",
       " 'NA15439629': 3,\n",
       " 'NA15792973': 2,\n",
       " 'NA15752917': 1,\n",
       " 'NA16893475': 1,\n",
       " 'NA17631313': 2,\n",
       " 'NA16806033': 1,\n",
       " 'NA17089196': 1,\n",
       " 'NA17146474': 1,\n",
       " 'NA15807890': 2,\n",
       " 'NA15751337': 2,\n",
       " 'NA17530296': 1,\n",
       " 'NA17447787': 1,\n",
       " 'NA15297323': 1,\n",
       " 'NA17406349': 2,\n",
       " 'NA18126636': 1,\n",
       " 'NA18131975': 1,\n",
       " 'NA17561968': 1,\n",
       " 'NA15091752': 2,\n",
       " 'NA16795924': 1,\n",
       " 'NA17107446': 1,\n",
       " 'NA15701441': 1,\n",
       " 'NA17437181': 1,\n",
       " 'NA17682817': 2,\n",
       " 'NA15758727': 1,\n",
       " 'NA16907059': 2,\n",
       " 'NA15765214': 1,\n",
       " 'NA17499489': 3,\n",
       " 'NA16921300': 2,\n",
       " 'NA17051708': 2,\n",
       " 'NA17457502': 1,\n",
       " 'NA15460339': 6,\n",
       " 'NA18185686': 1,\n",
       " 'NA16864100': 1,\n",
       " 'NA16757534': 1,\n",
       " 'NA15158605': 1,\n",
       " 'NA18148800': 1,\n",
       " 'NA16814068': 1,\n",
       " 'NA17051929': 2,\n",
       " 'NA5366072': 3,\n",
       " 'NA16842069': 1,\n",
       " 'NA17486655': 1,\n",
       " 'NA17443877': 1,\n",
       " 'NA17655982': 1,\n",
       " 'NA17616949': 1,\n",
       " 'NA5337888': 2,\n",
       " 'NA15801062': 1,\n",
       " 'NA17477629': 1,\n",
       " 'NA15487071': 1,\n",
       " 'NA17533204': 1,\n",
       " 'NA17621850': 2,\n",
       " 'NA17057957': 1,\n",
       " 'NA17086807': 1,\n",
       " 'NA18073958': 1,\n",
       " 'NA15796590': 1,\n",
       " 'NA15781869': 2,\n",
       " 'NA17507190': 4,\n",
       " 'NA17342789': 1,\n",
       " 'NA17574243': 1,\n",
       " 'NA16827723': 1,\n",
       " 'NA16875292': 2,\n",
       " 'NA16747998': 2,\n",
       " 'NA15501089': 2,\n",
       " 'NA17584154': 1,\n",
       " 'NA17521362': 1,\n",
       " 'NA18202366': 1,\n",
       " 'NA15297243': 1,\n",
       " 'NA15038534': 1,\n",
       " 'NA17382610': 1,\n",
       " 'NA17510075': 2,\n",
       " 'NA18049975': 2,\n",
       " 'NA17692943': 1,\n",
       " 'NA15527050': 1,\n",
       " 'NA17480153': 1,\n",
       " 'NA16919825': 1,\n",
       " 'NA18202139': 1,\n",
       " 'NA16839026': 1,\n",
       " 'NA17474478': 1,\n",
       " 'NA17419931': 2,\n",
       " 'NA17590813': 1,\n",
       " 'NA17642690': 1,\n",
       " 'NA15560474': 1,\n",
       " 'NA15754215': 2,\n",
       " 'NA17561737': 2,\n",
       " 'NA15754123': 1,\n",
       " 'NA17679386': 1,\n",
       " 'NA18049250': 1,\n",
       " 'NA17625372': 1,\n",
       " 'NA16875184': 2,\n",
       " 'NA17113239': 1,\n",
       " 'NA17152347': 1,\n",
       " 'NA17396529': 2,\n",
       " 'NA17602595': 1,\n",
       " 'NA17047499': 1,\n",
       " 'NA15758087': 1,\n",
       " 'NA17482402': 1,\n",
       " 'NA15531160': 1,\n",
       " 'NA18156319': 1,\n",
       " 'NA16925034': 5,\n",
       " 'NA17056408': 1,\n",
       " 'NA17681673': 1,\n",
       " 'NA17662366': 2,\n",
       " 'NA17072241': 1,\n",
       " 'NA16898028': 1,\n",
       " 'NA17379618': 1,\n",
       " 'NA17520179': 2,\n",
       " 'NA16888940': 4,\n",
       " 'NA17504968': 1,\n",
       " 'NA16773306': 1,\n",
       " 'NA16812349': 1,\n",
       " 'NA16888891': 2,\n",
       " 'NA15243648': 2,\n",
       " 'NA18094790': 2,\n",
       " 'NA18101418': 1,\n",
       " 'NA15760971': 3,\n",
       " 'NA16762759': 2,\n",
       " ...}"
      ]
     },
     "execution_count": 208,
     "metadata": {},
     "output_type": "execute_result"
    }
   ],
   "source": [
    "purchase"
   ]
  },
  {
   "cell_type": "code",
   "execution_count": 209,
   "metadata": {
    "collapsed": false
   },
   "outputs": [
    {
     "data": {
      "text/plain": [
       "1"
      ]
     },
     "execution_count": 209,
     "metadata": {},
     "output_type": "execute_result"
    }
   ],
   "source": [
    "purchase['NA17454294']"
   ]
  },
  {
   "cell_type": "code",
   "execution_count": 224,
   "metadata": {
    "collapsed": false
   },
   "outputs": [],
   "source": [
    "one_timers = []\n",
    "two_timers = []\n",
    "three_timers = []\n",
    "for i in list(data['ClientCode'].unique()):\n",
    "    if purchase[i] == 1:\n",
    "        one_timers.append(i)\n",
    "    elif purchase[i] == 2:\n",
    "        two_timers.append(i)\n",
    "    else:\n",
    "        three_timers.append(i)"
   ]
  },
  {
   "cell_type": "code",
   "execution_count": 225,
   "metadata": {
    "collapsed": false
   },
   "outputs": [
    {
     "data": {
      "text/plain": [
       "11442"
      ]
     },
     "execution_count": 225,
     "metadata": {},
     "output_type": "execute_result"
    }
   ],
   "source": [
    "len(two_timers)"
   ]
  },
  {
   "cell_type": "code",
   "execution_count": 215,
   "metadata": {
    "collapsed": true
   },
   "outputs": [],
   "source": [
    "data = data[data['ClientCode'].isin(two_timers)]"
   ]
  },
  {
   "cell_type": "code",
   "execution_count": 216,
   "metadata": {
    "collapsed": false
   },
   "outputs": [
    {
     "data": {
      "text/plain": [
       "(44244, 54)"
      ]
     },
     "execution_count": 216,
     "metadata": {},
     "output_type": "execute_result"
    }
   ],
   "source": [
    "data.shape"
   ]
  },
  {
   "cell_type": "code",
   "execution_count": 217,
   "metadata": {
    "collapsed": true
   },
   "outputs": [],
   "source": [
    "client_watch = (list((data['ClientCode'][data['ProductReference'].isin(w)]).unique()))"
   ]
  },
  {
   "cell_type": "code",
   "execution_count": 218,
   "metadata": {
    "collapsed": true
   },
   "outputs": [],
   "source": [
    "client_jewelry = (list((data['ClientCode'][data['ProductReference'].isin(j)]).unique()))"
   ]
  },
  {
   "cell_type": "code",
   "execution_count": 219,
   "metadata": {
    "collapsed": true
   },
   "outputs": [],
   "source": [
    "client_accessories = (list((data['ClientCode'][data['ProductReference'].isin(ac)]).unique()))"
   ]
  },
  {
   "cell_type": "code",
   "execution_count": 221,
   "metadata": {
    "collapsed": false
   },
   "outputs": [
    {
     "data": {
      "text/plain": [
       "(5429, 12228, 3141)"
      ]
     },
     "execution_count": 221,
     "metadata": {},
     "output_type": "execute_result"
    }
   ],
   "source": [
    "len(client_accessories), len(client_jewelry), len(client_watch)"
   ]
  },
  {
   "cell_type": "code",
   "execution_count": 235,
   "metadata": {
    "collapsed": false
   },
   "outputs": [
    {
     "data": {
      "text/plain": [
       "'NA15000285'"
      ]
     },
     "execution_count": 235,
     "metadata": {},
     "output_type": "execute_result"
    }
   ],
   "source": [
    "(two_timers)[0]"
   ]
  },
  {
   "cell_type": "code",
   "execution_count": 237,
   "metadata": {
    "collapsed": false
   },
   "outputs": [
    {
     "data": {
      "text/plain": [
       "['CRT1220407', 'CRT1220540']"
      ]
     },
     "execution_count": 237,
     "metadata": {},
     "output_type": "execute_result"
    }
   ],
   "source": [
    "list(data['ProductReference'][data['ClientCode'] == 'NA15000285'])"
   ]
  },
  {
   "cell_type": "code",
   "execution_count": 238,
   "metadata": {
    "collapsed": true
   },
   "outputs": [],
   "source": [
    "purchase = {}\n",
    "for i in two_timers:\n",
    "    purchase[i] = list(data['ProductReference'][data['ClientCode'] == i])"
   ]
  },
  {
   "cell_type": "code",
   "execution_count": 279,
   "metadata": {
    "collapsed": false
   },
   "outputs": [],
   "source": [
    "# Count the intra and inter classes transactions\n",
    "intra = 0\n",
    "ww = 0\n",
    "jj = 0\n",
    "aa = 0\n",
    "w_j = 0\n",
    "j_w = 0\n",
    "w_a = 0\n",
    "a_w = 0\n",
    "j_a = 0\n",
    "a_j = 0\n",
    "client_j = []\n",
    "for i in two_timers:\n",
    "    first = purchase[i][0]\n",
    "    second = purchase[i][1]\n",
    "    if ((first in w) & (second in w)):\n",
    "        intra += 1\n",
    "        ww += 1\n",
    "    elif ((first in j) & (second in j)):\n",
    "        intra += 1\n",
    "        jj += 1\n",
    "        client_j.append(i)\n",
    "    elif ((first in ac) & (second in ac)):\n",
    "        intra += 1\n",
    "        aa +=1\n",
    "    elif ((first in w) & (second in j)):\n",
    "        w_j += 1\n",
    "    elif ((first in j) & (second in w)):\n",
    "        j_w += 1\n",
    "    elif ((first in w) & (second in a)):\n",
    "        w_a += 1\n",
    "    elif ((first in a) & (second in w)):\n",
    "        a_w += 1\n",
    "    elif ((first in j) & (second in a)):\n",
    "        j_a += 1\n",
    "    elif ((first in a) & (second in j)):\n",
    "        a_j += 1    "
   ]
  },
  {
   "cell_type": "code",
   "execution_count": 276,
   "metadata": {
    "collapsed": false
   },
   "outputs": [
    {
     "name": "stdout",
     "output_type": "stream",
     "text": [
      "Among the 11442 transactions, there are 9667 products from intra transactions, among which 710 are watches, 7060 are jewelries, and 1897 are acessories. Then, 392 watch to jewelry, 345 jewelry to watch, 168 watch to accessories, 174 accessories to watch, 337 jewelry to accessories, 359 accessories to jewelry\n"
     ]
    }
   ],
   "source": [
    "print(\"Among the \" + str(len(two_timers)) + \" transactions, there are \" + str(intra) + \n",
    "      \" products from intra transactions, among which \" + str(ww) + \" are watches, \" + str(jj) + \n",
    "      \" are jewelries, and \"\n",
    "      + str(aa) + \" are acessories. Then, \"+ str(w_j) + \n",
    "      \" watch to jewelry, \" + str(j_w) + \" jewelry to watch, \" + \n",
    "      str(w_a) + \" watch to accessories, \"+ str(a_w) + \" accessories to watch, \" + str(j_a) + \n",
    "      \" jewelry to accessories, \" + str(a_j) + \" accessories to jewelry\")"
   ]
  },
  {
   "cell_type": "code",
   "execution_count": 284,
   "metadata": {
    "collapsed": true
   },
   "outputs": [],
   "source": [
    "purchase_j = {}\n",
    "for i in client_j:\n",
    "    purchase_j[i] = purchase[i]"
   ]
  },
  {
   "cell_type": "code",
   "execution_count": 282,
   "metadata": {
    "collapsed": false
   },
   "outputs": [
    {
     "data": {
      "text/plain": [
       "7060"
      ]
     },
     "execution_count": 282,
     "metadata": {},
     "output_type": "execute_result"
    }
   ],
   "source": [
    "len(client_j)"
   ]
  },
  {
   "cell_type": "code",
   "execution_count": 286,
   "metadata": {
    "collapsed": false
   },
   "outputs": [
    {
     "data": {
      "text/plain": [
       "(44244, 54)"
      ]
     },
     "execution_count": 286,
     "metadata": {},
     "output_type": "execute_result"
    }
   ],
   "source": [
    "data.shape"
   ]
  },
  {
   "cell_type": "code",
   "execution_count": 287,
   "metadata": {
    "collapsed": false
   },
   "outputs": [
    {
     "data": {
      "text/plain": [
       "Index(['hier 2', 'hier 3', 'hier 4', 'hier 5', 'hier 6', 'hier 7',\n",
       "       'article ID', 'article label', 'collection ID', 'collection label',\n",
       "       'alloy type', 'launch date', 'NB of stones', 'center stone',\n",
       "       'carats stone', 'material group', 'life cycle label', 'amount',\n",
       "       'quantity', 'number of clients'],\n",
       "      dtype='object')"
      ]
     },
     "execution_count": 287,
     "metadata": {},
     "output_type": "execute_result"
    }
   ],
   "source": [
    "jewelry.columns"
   ]
  },
  {
   "cell_type": "code",
   "execution_count": 288,
   "metadata": {
    "collapsed": true
   },
   "outputs": [],
   "source": [
    "data_j = data[data['ClientCode'].isin(client_j)]"
   ]
  },
  {
   "cell_type": "code",
   "execution_count": 289,
   "metadata": {
    "collapsed": false
   },
   "outputs": [
    {
     "data": {
      "text/plain": [
       "(14120, 54)"
      ]
     },
     "execution_count": 289,
     "metadata": {},
     "output_type": "execute_result"
    }
   ],
   "source": [
    "data_j.shape"
   ]
  },
  {
   "cell_type": "code",
   "execution_count": 298,
   "metadata": {
    "collapsed": false
   },
   "outputs": [
    {
     "data": {
      "text/plain": [
       "White gold 751 /125    6304\n",
       "Yellow gold 751        2788\n",
       "Platinum 953           2474\n",
       "Red gold 751           2000\n",
       "Not assigned            202\n",
       "White gold 751 /130     167\n",
       "Red Gold 5N18            87\n",
       "White gold 130           55\n",
       "White gold 125           18\n",
       "Platinum 950             13\n",
       "Yellow Gold 3N18         12\n",
       "Name: alloy type, dtype: int64"
      ]
     },
     "execution_count": 298,
     "metadata": {},
     "output_type": "execute_result"
    }
   ],
   "source": [
    "data_j['alloy type'].value_counts()"
   ]
  },
  {
   "cell_type": "code",
   "execution_count": 299,
   "metadata": {
    "collapsed": false
   },
   "outputs": [
    {
     "name": "stderr",
     "output_type": "stream",
     "text": [
      "C:\\Users\\utilisateur\\Anaconda3\\lib\\site-packages\\ipykernel\\__main__.py:1: SettingWithCopyWarning: \n",
      "A value is trying to be set on a copy of a slice from a DataFrame.\n",
      "Try using .loc[row_indexer,col_indexer] = value instead\n",
      "\n",
      "See the caveats in the documentation: http://pandas.pydata.org/pandas-docs/stable/indexing.html#indexing-view-versus-copy\n",
      "  if __name__ == '__main__':\n"
     ]
    }
   ],
   "source": [
    "data_j['Type'] = 0"
   ]
  },
  {
   "cell_type": "code",
   "execution_count": 303,
   "metadata": {
    "collapsed": false
   },
   "outputs": [],
   "source": [
    "#data_j[data_j['alloy type'] == 'Platinum 953']"
   ]
  },
  {
   "cell_type": "code",
   "execution_count": 356,
   "metadata": {
    "collapsed": false
   },
   "outputs": [],
   "source": [
    "# Compute the number of jewelriy from same or different type\n",
    "\n",
    "same = 0\n",
    "different = 0\n",
    "for i in client_j:\n",
    "    first = purchase_j[i][0]\n",
    "    second = purchase_j[i][1]\n",
    "    typ1 = list(data_j['alloy type'][(data_j['ClientCode'] == i) & (data_j['ProductReference'] == first)])[0]\n",
    "    typ2 = list(data_j['alloy type'][(data_j['ClientCode'] == i) & (data_j['ProductReference'] == second)])[0]\n",
    "    if (typ1 == typ2):\n",
    "        same += 1\n",
    "    else:\n",
    "        different += 1"
   ]
  },
  {
   "cell_type": "code",
   "execution_count": 358,
   "metadata": {
    "collapsed": false
   },
   "outputs": [
    {
     "data": {
      "text/plain": [
       "0.7509915014164306"
      ]
     },
     "execution_count": 358,
     "metadata": {},
     "output_type": "execute_result"
    }
   ],
   "source": [
    "same/(different+same)"
   ]
  },
  {
   "cell_type": "code",
   "execution_count": 355,
   "metadata": {
    "collapsed": false
   },
   "outputs": [
    {
     "data": {
      "text/plain": [
       "White           6544\n",
       "Yellow          2800\n",
       "Platinum        2487\n",
       "Red             2087\n",
       "Not assigned     202\n",
       "Name: alloy type, dtype: int64"
      ]
     },
     "execution_count": 355,
     "metadata": {},
     "output_type": "execute_result"
    }
   ],
   "source": [
    "data_j['alloy type'].value_counts()"
   ]
  },
  {
   "cell_type": "code",
   "execution_count": 354,
   "metadata": {
    "collapsed": false
   },
   "outputs": [
    {
     "name": "stderr",
     "output_type": "stream",
     "text": [
      "C:\\Users\\utilisateur\\Anaconda3\\lib\\site-packages\\ipykernel\\__main__.py:1: SettingWithCopyWarning: \n",
      "A value is trying to be set on a copy of a slice from a DataFrame\n",
      "\n",
      "See the caveats in the documentation: http://pandas.pydata.org/pandas-docs/stable/indexing.html#indexing-view-versus-copy\n",
      "  if __name__ == '__main__':\n",
      "C:\\Users\\utilisateur\\Anaconda3\\lib\\site-packages\\pandas\\core\\generic.py:4059: SettingWithCopyWarning: \n",
      "A value is trying to be set on a copy of a slice from a DataFrame\n",
      "\n",
      "See the caveats in the documentation: http://pandas.pydata.org/pandas-docs/stable/indexing.html#indexing-view-versus-copy\n",
      "  self._update_inplace(new_data)\n",
      "C:\\Users\\utilisateur\\Anaconda3\\lib\\site-packages\\IPython\\core\\interactiveshell.py:3066: SettingWithCopyWarning: \n",
      "A value is trying to be set on a copy of a slice from a DataFrame\n",
      "\n",
      "See the caveats in the documentation: http://pandas.pydata.org/pandas-docs/stable/indexing.html#indexing-view-versus-copy\n",
      "  exec(code_obj, self.user_global_ns, self.user_ns)\n"
     ]
    }
   ],
   "source": [
    "data_j['alloy type'][data_j['alloy type'] == 'Red Gold 5N18'] = \"Red\""
   ]
  },
  {
   "cell_type": "code",
   "execution_count": 359,
   "metadata": {
    "collapsed": true
   },
   "outputs": [],
   "source": [
    "def intersect(a, b):\n",
    "    return list(set(a) & set(b))\n",
    "    \n",
    "def combinliste2(seq):\n",
    "    p = []\n",
    "    for i in range(len(seq)):\n",
    "        for j in range(i+1,len(seq)):\n",
    "            s = []\n",
    "            s.append(seq[i])\n",
    "            s.append(seq[j])\n",
    "            p.append(s)\n",
    "    return p"
   ]
  },
  {
   "cell_type": "code",
   "execution_count": 360,
   "metadata": {
    "collapsed": true
   },
   "outputs": [],
   "source": [
    "random.shuffle(client_j)\n",
    "client_j_train = client_j[0:int(len(client_j)*0.7)]\n",
    "client_j_test = client_j[int(len(client_j)*0.7):]"
   ]
  },
  {
   "cell_type": "code",
   "execution_count": 367,
   "metadata": {
    "collapsed": false
   },
   "outputs": [
    {
     "data": {
      "text/plain": [
       "5"
      ]
     },
     "execution_count": 367,
     "metadata": {},
     "output_type": "execute_result"
    }
   ],
   "source": [
    "type_l = (list(data_j['alloy type'].unique()))\n",
    "len(type_l)"
   ]
  },
  {
   "cell_type": "code",
   "execution_count": 368,
   "metadata": {
    "collapsed": true
   },
   "outputs": [],
   "source": [
    "mat = pd.DataFrame(np.zeros((len(type_l),len(type_l)), dtype=float),\n",
    "                                index = type_l ,columns=type_l, dtype = float)"
   ]
  },
  {
   "cell_type": "code",
   "execution_count": 369,
   "metadata": {
    "collapsed": false
   },
   "outputs": [
    {
     "data": {
      "text/html": [
       "<div>\n",
       "<table border=\"1\" class=\"dataframe\">\n",
       "  <thead>\n",
       "    <tr style=\"text-align: right;\">\n",
       "      <th></th>\n",
       "      <th>White</th>\n",
       "      <th>Platinum</th>\n",
       "      <th>Yellow</th>\n",
       "      <th>Red</th>\n",
       "      <th>Not assigned</th>\n",
       "    </tr>\n",
       "  </thead>\n",
       "  <tbody>\n",
       "    <tr>\n",
       "      <th>White</th>\n",
       "      <td>0</td>\n",
       "      <td>0</td>\n",
       "      <td>0</td>\n",
       "      <td>0</td>\n",
       "      <td>0</td>\n",
       "    </tr>\n",
       "    <tr>\n",
       "      <th>Platinum</th>\n",
       "      <td>0</td>\n",
       "      <td>0</td>\n",
       "      <td>0</td>\n",
       "      <td>0</td>\n",
       "      <td>0</td>\n",
       "    </tr>\n",
       "    <tr>\n",
       "      <th>Yellow</th>\n",
       "      <td>0</td>\n",
       "      <td>0</td>\n",
       "      <td>0</td>\n",
       "      <td>0</td>\n",
       "      <td>0</td>\n",
       "    </tr>\n",
       "    <tr>\n",
       "      <th>Red</th>\n",
       "      <td>0</td>\n",
       "      <td>0</td>\n",
       "      <td>0</td>\n",
       "      <td>0</td>\n",
       "      <td>0</td>\n",
       "    </tr>\n",
       "    <tr>\n",
       "      <th>Not assigned</th>\n",
       "      <td>0</td>\n",
       "      <td>0</td>\n",
       "      <td>0</td>\n",
       "      <td>0</td>\n",
       "      <td>0</td>\n",
       "    </tr>\n",
       "  </tbody>\n",
       "</table>\n",
       "</div>"
      ],
      "text/plain": [
       "              White  Platinum  Yellow  Red  Not assigned\n",
       "White             0         0       0    0             0\n",
       "Platinum          0         0       0    0             0\n",
       "Yellow            0         0       0    0             0\n",
       "Red               0         0       0    0             0\n",
       "Not assigned      0         0       0    0             0"
      ]
     },
     "execution_count": 369,
     "metadata": {},
     "output_type": "execute_result"
    }
   ],
   "source": [
    "mat"
   ]
  },
  {
   "cell_type": "code",
   "execution_count": 379,
   "metadata": {
    "collapsed": true
   },
   "outputs": [],
   "source": [
    "type_j = {}\n",
    "for i in client_j:\n",
    "    type_j[i] = list(data_j['alloy type'][data_j['ClientCode'] == i])"
   ]
  },
  {
   "cell_type": "code",
   "execution_count": 394,
   "metadata": {
    "collapsed": false
   },
   "outputs": [],
   "source": [
    "def test_type():\n",
    "            #on intègre la fonction de test dans la fonction crossval car sinon il ne reconnaît pas two_timer_test_l ... \n",
    "                achats = list()\n",
    "                recos = list()\n",
    "                nb_bonne_reco = 0\n",
    "                taux_bonne_reco = 0\n",
    "                for client in client_j:\n",
    "                    typ = type_j[client]\n",
    "                    reco = type_j[client][0] \n",
    "                    if type_j[client][1] == reco:\n",
    "                        nb_bonne_reco += 1          \n",
    "                taux_bonne_reco = nb_bonne_reco/len(client_j) \n",
    "                print (\"Le taux de bonnes recommandations est de \" + str(100*taux_bonne_reco) + '%')"
   ]
  },
  {
   "cell_type": "code",
   "execution_count": 405,
   "metadata": {
    "collapsed": false
   },
   "outputs": [],
   "source": [
    "White = list(data_j['ProductReference'][data_j['alloy type'] == 'White'].unique())\n",
    "Yellow = list(data_j['ProductReference'][data_j['alloy type'] == 'Yellow'].unique())\n",
    "Platinum = list(data_j['ProductReference'][data_j['alloy type'] == 'Platinum'].unique())\n",
    "Red = list(data_j['ProductReference'][data_j['alloy type'] == 'Red'].unique())\n",
    "Other = list(data_j['ProductReference'][data_j['alloy type'] == 'Not assigned'].unique())"
   ]
  },
  {
   "cell_type": "code",
   "execution_count": 468,
   "metadata": {
    "collapsed": true
   },
   "outputs": [],
   "source": [
    "mat_white = pd.DataFrame(np.zeros((len(White),len(White)), dtype=float),\n",
    "                                index = White ,columns=White, dtype = float)\n",
    "mat_yellow = pd.DataFrame(np.zeros((len(Yellow),len(Yellow)), dtype=float),\n",
    "                                index = Yellow ,columns=Yellow, dtype = float)\n",
    "mat_platinum = pd.DataFrame(np.zeros((len(Platinum),len(Platinum)), dtype=float),\n",
    "                                index = Platinum ,columns=Platinum, dtype = float)\n",
    "mat_red = pd.DataFrame(np.zeros((len(Red),len(Red)), dtype=float),\n",
    "                                index = Red ,columns=Red, dtype = float)\n",
    "mat_other = pd.DataFrame(np.zeros((len(Other),len(Other)), dtype=float),\n",
    "                                index = Other ,columns=Other, dtype = float)\n",
    "random.shuffle(client_j)\n",
    "client_j_train = client_j[0:int(len(client_j)*0.9)]\n",
    "client_j_test = client_j[int(len(client_j)*0.9):]"
   ]
  },
  {
   "cell_type": "code",
   "execution_count": 469,
   "metadata": {
    "collapsed": false
   },
   "outputs": [],
   "source": [
    "for c in client_j_train:\n",
    "    p = purchase_j[c]\n",
    "    if ((p[0] in White) & (p[1] in White)):\n",
    "        mat_white.ix[p[0]][p[1]] += 1\n",
    "        mat_white.ix[p[1]][p[0]] += 1\n",
    "    elif ((p[0] in Yellow) & (p[1] in Yellow)):\n",
    "        mat_yellow.ix[p[0]][p[1]] += 1\n",
    "        mat_yellow.ix[p[1]][p[0]] += 1\n",
    "    elif ((p[0] in Platinum) & (p[1] in Platinum)):\n",
    "        mat_platinum.ix[p[0]][p[1]] += 1\n",
    "        mat_platinum.ix[p[1]][p[0]] += 1\n",
    "    elif ((p[0] in Red) & (p[1] in Red)):\n",
    "        mat_red.ix[p[0]][p[1]] += 1\n",
    "        mat_red.ix[p[1]][p[0]] += 1\n",
    "    elif ((p[0] in Other) & (p[1] in Other)):\n",
    "        mat_other.ix[p[0]][p[1]] += 1\n",
    "        mat_other.ix[p[1]][p[0]] += 1"
   ]
  },
  {
   "cell_type": "code",
   "execution_count": 470,
   "metadata": {
    "collapsed": false
   },
   "outputs": [],
   "source": [
    "def hybrid_reco(product, nb_reco = 5):\n",
    "    if (product in White):\n",
    "        most_similar_items = mat_white[product].sort_values(ascending = False)\n",
    "    elif (product in Yellow):\n",
    "        most_similar_items = mat_yellow[product].sort_values(ascending = False)\n",
    "    elif (product in Platinum):\n",
    "        most_similar_items = mat_platinum[product].sort_values(ascending = False)\n",
    "    elif (product in Red):\n",
    "        most_similar_items = mat_red[product].sort_values(ascending = False)\n",
    "    elif (product in Other):\n",
    "        most_similar_items = mat_other[product].sort_values(ascending = False)\n",
    "    return list(most_similar_items.index[0:nb_reco])"
   ]
  },
  {
   "cell_type": "code",
   "execution_count": 471,
   "metadata": {
    "collapsed": false
   },
   "outputs": [
    {
     "data": {
      "text/plain": [
       "'White'"
      ]
     },
     "execution_count": 471,
     "metadata": {},
     "output_type": "execute_result"
    }
   ],
   "source": [
    "list(data_j['alloy type'][data_j['ProductReference'] == 'CRB4075155'])[0]"
   ]
  },
  {
   "cell_type": "code",
   "execution_count": 472,
   "metadata": {
    "collapsed": false
   },
   "outputs": [
    {
     "data": {
      "text/plain": [
       "['CRB6038618', 'CRB8031900', 'CRB4086057', 'CRN5022700', 'CRB4038951']"
      ]
     },
     "execution_count": 472,
     "metadata": {},
     "output_type": "execute_result"
    }
   ],
   "source": [
    "hybrid_reco('CRB4075155')"
   ]
  },
  {
   "cell_type": "code",
   "execution_count": 545,
   "metadata": {
    "collapsed": false
   },
   "outputs": [],
   "source": [
    "def test_hybrid(nombre_reco):\n",
    "    \n",
    "    White = list(data_j['ProductReference'][data_j['alloy type'] == 'White'].unique())\n",
    "    Yellow = list(data_j['ProductReference'][data_j['alloy type'] == 'Yellow'].unique())\n",
    "    Platinum = list(data_j['ProductReference'][data_j['alloy type'] == 'Platinum'].unique())\n",
    "    Red = list(data_j['ProductReference'][data_j['alloy type'] == 'Red'].unique())\n",
    "    Other = list(data_j['ProductReference'][data_j['alloy type'] == 'Not assigned'].unique())\n",
    "\n",
    "    mat_white = pd.DataFrame(np.zeros((len(White),len(White)), dtype=float),\n",
    "                                    index = White ,columns=White, dtype = float)\n",
    "    mat_yellow = pd.DataFrame(np.zeros((len(Yellow),len(Yellow)), dtype=float),\n",
    "                                    index = Yellow ,columns=Yellow, dtype = float)\n",
    "    mat_platinum = pd.DataFrame(np.zeros((len(Platinum),len(Platinum)), dtype=float),\n",
    "                                    index = Platinum ,columns=Platinum, dtype = float)\n",
    "    mat_red = pd.DataFrame(np.zeros((len(Red),len(Red)), dtype=float),\n",
    "                                    index = Red ,columns=Red, dtype = float)\n",
    "    mat_other = pd.DataFrame(np.zeros((len(Other),len(Other)), dtype=float),\n",
    "                                    index = Other ,columns=Other, dtype = float)\n",
    "    random.shuffle(client_j)\n",
    "    client_j_train = client_j[0:int(len(client_j)*0.7)]\n",
    "    client_j_test = client_j[int(len(client_j)*0.7):]\n",
    "\n",
    "    for c in client_j_train:\n",
    "        p = purchase_j[c]\n",
    "        if ((p[0] in White) & (p[1] in White)):\n",
    "            mat_white.ix[p[0]][p[1]] += 1\n",
    "            mat_white.ix[p[1]][p[0]] += 1\n",
    "        elif ((p[0] in Yellow) & (p[1] in Yellow)):\n",
    "            mat_yellow.ix[p[0]][p[1]] += 1\n",
    "            mat_yellow.ix[p[1]][p[0]] += 1\n",
    "        elif ((p[0] in Platinum) & (p[1] in Platinum)):\n",
    "            mat_platinum.ix[p[0]][p[1]] += 1\n",
    "            mat_platinum.ix[p[1]][p[0]] += 1\n",
    "        elif ((p[0] in Red) & (p[1] in Red)):\n",
    "            mat_red.ix[p[0]][p[1]] += 1\n",
    "            mat_red.ix[p[1]][p[0]] += 1\n",
    "        elif ((p[0] in Other) & (p[1] in Other)):\n",
    "            mat_other.ix[p[0]][p[1]] += 1\n",
    "            mat_other.ix[p[1]][p[0]] += 1\n",
    "\n",
    "    def hybrid_reco(product, nb_reco = 5):\n",
    "        if (product in White):\n",
    "            most_similar_items = mat_white[product].sort_values(ascending = False)\n",
    "        elif (product in Yellow):\n",
    "            most_similar_items = mat_yellow[product].sort_values(ascending = False)\n",
    "        elif (product in Platinum):\n",
    "            most_similar_items = mat_platinum[product].sort_values(ascending = False)\n",
    "        elif (product in Red):\n",
    "            most_similar_items = mat_red[product].sort_values(ascending = False)\n",
    "        elif (product in Other):\n",
    "            most_similar_items = mat_other[product].sort_values(ascending = False)\n",
    "        return list(most_similar_items.index[0:nb_reco])\n",
    "\n",
    "    def test_item_to_item(algo, nb_reco):\n",
    "    #on intègre la fonction de test dans la fonction crossval car sinon il ne reconnaît pas two_timer_test_l ... \n",
    "        achats = list()\n",
    "        recos = list()\n",
    "        nb_bonne_reco = 0\n",
    "        taux_bonne_reco = 0\n",
    "        for client in client_j_test:\n",
    "            achats = purchase_j[client]\n",
    "            recos = algo(achats[0],nb_reco)\n",
    "            bonne_reco = 0 \n",
    "            for reco in recos:\n",
    "                if reco in achats[1:]: bonne_reco += 1\n",
    "            if bonne_reco >= 1: nb_bonne_reco += 1           \n",
    "        taux_bonne_reco = nb_bonne_reco/len(client_j_test) \n",
    "        return taux_bonne_reco\n",
    "\n",
    "    return test_item_to_item(hybrid_reco, nombre_reco)"
   ]
  },
  {
   "cell_type": "code",
   "execution_count": 546,
   "metadata": {
    "collapsed": false
   },
   "outputs": [
    {
     "data": {
      "text/plain": [
       "0.14589235127478753"
      ]
     },
     "execution_count": 546,
     "metadata": {},
     "output_type": "execute_result"
    }
   ],
   "source": [
    "test_hybrid(10)"
   ]
  },
  {
   "cell_type": "code",
   "execution_count": 544,
   "metadata": {
    "collapsed": false
   },
   "outputs": [],
   "source": [
    "def test_classic(nombre_reco):\n",
    "\n",
    "    a = list(data_j['ProductReference'].unique())\n",
    "    mat = pd.DataFrame(np.zeros((len(a),len(a)), dtype=float),\n",
    "                                    index = a ,columns=a, dtype = float)\n",
    "\n",
    "    random.shuffle(client_j)\n",
    "    client_j_train = client_j[0:int(len(client_j)*0.7)]\n",
    "    client_j_test = client_j[int(len(client_j)*0.7):]\n",
    "\n",
    "    for c in client_j_train:\n",
    "        p = purchase_j[c]\n",
    "        mat.ix[p[0]][p[1]] += 1\n",
    "        mat.ix[p[1]][p[0]] += 1\n",
    "\n",
    "    def reco_i(product, nb_reco = 5):\n",
    "        most_similar_items = mat[product].sort_values(ascending = False)\n",
    "        return list(most_similar_items.index[0:nb_reco])\n",
    "\n",
    "    def test_i(nb_reco):\n",
    "    #on intègre la fonction de test dans la fonction crossval car sinon il ne reconnaît pas two_timer_test_l ... \n",
    "        achats = list()\n",
    "        recos = list()\n",
    "        nb_bonne_reco = 0\n",
    "        taux_bonne_reco = 0\n",
    "        for client in client_j_test:\n",
    "            achats = purchase_j[client]\n",
    "            recos = reco_i(achats[0],nb_reco)\n",
    "            bonne_reco = 0 \n",
    "            for reco in recos:\n",
    "                if reco in achats[1:]: bonne_reco += 1\n",
    "            if bonne_reco >= 1: nb_bonne_reco += 1           \n",
    "        taux_bonne_reco = nb_bonne_reco/len(client_j_test) \n",
    "        return taux_bonne_reco\n",
    "    return test_i(nombre_reco)"
   ]
  },
  {
   "cell_type": "code",
   "execution_count": 547,
   "metadata": {
    "collapsed": false
   },
   "outputs": [
    {
     "data": {
      "text/plain": [
       "0.09442870632672333"
      ]
     },
     "execution_count": 547,
     "metadata": {},
     "output_type": "execute_result"
    }
   ],
   "source": [
    "test_classic(5)"
   ]
  },
  {
   "cell_type": "code",
   "execution_count": 548,
   "metadata": {
    "collapsed": false
   },
   "outputs": [
    {
     "name": "stdout",
     "output_type": "stream",
     "text": [
      "0.0009442870632672337\n",
      "0.007082152974504249\n",
      "0.0033050047214353145\n",
      "0.010859301227573184\n",
      "-0.00755429650613787\n",
      "0.00755429650613787\n",
      "0.007082152974504249\n",
      "-0.0023607176581680878\n",
      "-0.005665722379603402\n"
     ]
    }
   ],
   "source": [
    "for i in range(1,10):\n",
    "    print(test_hybrid(i) - test_classic(i))"
   ]
  },
  {
   "cell_type": "code",
   "execution_count": 550,
   "metadata": {
    "collapsed": false
   },
   "outputs": [
    {
     "name": "stdout",
     "output_type": "stream",
     "text": [
      "0.0174693106704438\n"
     ]
    }
   ],
   "source": [
    "print(test_hybrid(30) - test_classic(30))"
   ]
  },
  {
   "cell_type": "code",
   "execution_count": null,
   "metadata": {
    "collapsed": true
   },
   "outputs": [],
   "source": []
  }
 ],
 "metadata": {
  "kernelspec": {
   "display_name": "Python 3",
   "language": "python",
   "name": "python3"
  },
  "language_info": {
   "codemirror_mode": {
    "name": "ipython",
    "version": 3
   },
   "file_extension": ".py",
   "mimetype": "text/x-python",
   "name": "python",
   "nbconvert_exporter": "python",
   "pygments_lexer": "ipython3",
   "version": "3.5.1"
  }
 },
 "nbformat": 4,
 "nbformat_minor": 0
}
